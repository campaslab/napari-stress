{
 "cells": [
  {
   "cell_type": "markdown",
   "id": "25a3519e-b8e1-4509-b236-e23e89e4d8d4",
   "metadata": {},
   "source": [
    "# Evaluate surface tracing\n",
    "\n",
    "This notebook compares the results of two different approaches to surface tracing:\n",
    "\n",
    "- Approach 1: Matlab code published [here](https://github.com/campaslab/STRESS)\n",
    "- Approach2: Napari surface tracing demonstrated in [this notebook ](./Process_confocal.ipynb)"
   ]
  },
  {
   "cell_type": "code",
   "execution_count": 1,
   "id": "819f8b22-fd62-44a7-af33-6b00cb2896ad",
   "metadata": {},
   "outputs": [],
   "source": [
    "import numpy as np\n",
    "from scipy import io\n",
    "import os\n",
    "import pandas as pd\n",
    "\n",
    "import napari_stress\n",
    "from napari_stress._utils import time_slicer\n",
    "\n",
    "import napari\n",
    "import matplotlib.pyplot as plt"
   ]
  },
  {
   "cell_type": "code",
   "execution_count": 2,
   "id": "85eb2ab8-5e1d-4829-897f-eccae3f52351",
   "metadata": {},
   "outputs": [
    {
     "name": "stdout",
     "output_type": "stream",
     "text": [
      "Assistant skips harvesting pyclesperanto as it's not installed.\n"
     ]
    }
   ],
   "source": [
    "viewer = napari.Viewer()"
   ]
  },
  {
   "cell_type": "code",
   "execution_count": 3,
   "id": "1c9f6187-4faf-4a4c-91df-e16ea60c3a4f",
   "metadata": {},
   "outputs": [],
   "source": [
    "root = r'C:\\Users\\johamuel\\Documents\\BiAPoL\\Shared\\BiAPoLprojects\\20_STRESS\\1_first_data'\n",
    "\n",
    "raw_image = os.path.join(root,\n",
    "                         'ExampleTifSequence-InteriorLabel-vsx_2.076um-vsz_3.998um-TimeInterval_3.00min-21timesteps.tif')\n",
    "matlab_results = os.path.join(root, \n",
    "                             'results_matlab_code',\n",
    "                             'ExampleTifSequence-InteriorLabel--21timesteps_analyzed',\n",
    "                             'CoordsAndCurves_2022_4_28_14_59')\n",
    "napari_results = os.path.join(root,\n",
    "                              'ExampleTifSequence-InteriorLabel-vsx_2.076um-vsz_3.998um-TimeInterval_3.00min-21timesteps_analyzed.csv')"
   ]
  },
  {
   "cell_type": "code",
   "execution_count": 4,
   "id": "556154fe-44ed-432b-a868-fe5cfc511a7f",
   "metadata": {},
   "outputs": [],
   "source": [
    "vsz = 3.998\n",
    "vsy = 2.076\n",
    "vsx = 2.076"
   ]
  },
  {
   "cell_type": "code",
   "execution_count": 5,
   "id": "8c1587ac-4efb-4d8e-b2a8-2817fc44cc38",
   "metadata": {},
   "outputs": [
    {
     "data": {
      "text/plain": [
       "[<Image layer 'ExampleTifSequence-InteriorLabel-vsx_2.076um-vsz_3.998um-TimeInterval_3.00min-21timesteps' at 0x2f4504c9ac0>]"
      ]
     },
     "execution_count": 5,
     "metadata": {},
     "output_type": "execute_result"
    }
   ],
   "source": [
    "viewer.open(raw_image, scale = np.asarray([vsz, vsy, vsx]))"
   ]
  },
  {
   "cell_type": "markdown",
   "id": "500fcf94-5578-43ad-a878-8eb98c1aa524",
   "metadata": {},
   "source": [
    "This thing helps us to convert back and forth between lists of points (e.g. one entry for every frame) and 4D pointcloud sets that are compatible with Napari"
   ]
  },
  {
   "cell_type": "code",
   "execution_count": 6,
   "id": "ba51a79c-cf75-433d-9927-e27d99d5a96e",
   "metadata": {},
   "outputs": [],
   "source": [
    "Converter = time_slicer.Converter()"
   ]
  },
  {
   "cell_type": "markdown",
   "id": "03d46333-d05f-4ebd-a7f6-d788bfcadd9d",
   "metadata": {},
   "source": [
    "## Loading data from Matlab\n",
    "\n",
    "The matlab results are loaded as a Python dictionary with the following column headers:"
   ]
  },
  {
   "cell_type": "code",
   "execution_count": 7,
   "id": "14c57c49-71d3-4431-8849-378444b4b1b4",
   "metadata": {},
   "outputs": [],
   "source": [
    "matlab_data = []\n",
    "\n",
    "for f in os.listdir(matlab_results):\n",
    "    matlab_data.append(io.loadmat(os.path.join(matlab_results, f)))\n",
    "matlab_data[0].keys()\n",
    "matlab_points = [x['pointCloudArray'] for x in matlab_data]"
   ]
  },
  {
   "cell_type": "markdown",
   "id": "88cbbd81-8913-45ef-ad2b-c8ac17bf3f28",
   "metadata": {},
   "source": [
    "## Loading data from Python\n",
    "\n",
    "The results from Python are stored as .csv files that can be read with the Pandas package"
   ]
  },
  {
   "cell_type": "code",
   "execution_count": 8,
   "id": "4798525f-d536-4381-a1be-3f3ca7eb1138",
   "metadata": {},
   "outputs": [
    {
     "data": {
      "text/html": [
       "<div>\n",
       "<style scoped>\n",
       "    .dataframe tbody tr th:only-of-type {\n",
       "        vertical-align: middle;\n",
       "    }\n",
       "\n",
       "    .dataframe tbody tr th {\n",
       "        vertical-align: top;\n",
       "    }\n",
       "\n",
       "    .dataframe thead th {\n",
       "        text-align: right;\n",
       "    }\n",
       "</style>\n",
       "<table border=\"1\" class=\"dataframe\">\n",
       "  <thead>\n",
       "    <tr style=\"text-align: right;\">\n",
       "      <th></th>\n",
       "      <th>Unnamed: 0</th>\n",
       "      <th>t</th>\n",
       "      <th>x1</th>\n",
       "      <th>x2</th>\n",
       "      <th>x3</th>\n",
       "      <th>fit_residues</th>\n",
       "      <th>curvatures</th>\n",
       "    </tr>\n",
       "  </thead>\n",
       "  <tbody>\n",
       "    <tr>\n",
       "      <th>0</th>\n",
       "      <td>0</td>\n",
       "      <td>0.0</td>\n",
       "      <td>29.606052</td>\n",
       "      <td>28.750132</td>\n",
       "      <td>20.178068</td>\n",
       "      <td>3.468589</td>\n",
       "      <td>0.005049</td>\n",
       "    </tr>\n",
       "    <tr>\n",
       "      <th>1</th>\n",
       "      <td>1</td>\n",
       "      <td>0.0</td>\n",
       "      <td>28.753433</td>\n",
       "      <td>30.732504</td>\n",
       "      <td>20.111330</td>\n",
       "      <td>3.432343</td>\n",
       "      <td>0.004903</td>\n",
       "    </tr>\n",
       "    <tr>\n",
       "      <th>2</th>\n",
       "      <td>2</td>\n",
       "      <td>0.0</td>\n",
       "      <td>26.274553</td>\n",
       "      <td>30.055321</td>\n",
       "      <td>20.409670</td>\n",
       "      <td>3.050843</td>\n",
       "      <td>0.004945</td>\n",
       "    </tr>\n",
       "    <tr>\n",
       "      <th>3</th>\n",
       "      <td>3</td>\n",
       "      <td>0.0</td>\n",
       "      <td>29.655508</td>\n",
       "      <td>31.567692</td>\n",
       "      <td>19.915390</td>\n",
       "      <td>3.299975</td>\n",
       "      <td>0.005598</td>\n",
       "    </tr>\n",
       "    <tr>\n",
       "      <th>4</th>\n",
       "      <td>4</td>\n",
       "      <td>0.0</td>\n",
       "      <td>32.183094</td>\n",
       "      <td>28.610729</td>\n",
       "      <td>20.381533</td>\n",
       "      <td>3.433988</td>\n",
       "      <td>0.005524</td>\n",
       "    </tr>\n",
       "    <tr>\n",
       "      <th>...</th>\n",
       "      <td>...</td>\n",
       "      <td>...</td>\n",
       "      <td>...</td>\n",
       "      <td>...</td>\n",
       "      <td>...</td>\n",
       "      <td>...</td>\n",
       "      <td>...</td>\n",
       "    </tr>\n",
       "    <tr>\n",
       "      <th>8230</th>\n",
       "      <td>8230</td>\n",
       "      <td>20.0</td>\n",
       "      <td>32.288338</td>\n",
       "      <td>27.393843</td>\n",
       "      <td>47.022659</td>\n",
       "      <td>1.809680</td>\n",
       "      <td>0.005452</td>\n",
       "    </tr>\n",
       "    <tr>\n",
       "      <th>8231</th>\n",
       "      <td>8231</td>\n",
       "      <td>20.0</td>\n",
       "      <td>27.130127</td>\n",
       "      <td>27.070652</td>\n",
       "      <td>47.361084</td>\n",
       "      <td>1.375345</td>\n",
       "      <td>0.006046</td>\n",
       "    </tr>\n",
       "    <tr>\n",
       "      <th>8232</th>\n",
       "      <td>8232</td>\n",
       "      <td>20.0</td>\n",
       "      <td>28.499922</td>\n",
       "      <td>28.843052</td>\n",
       "      <td>47.248196</td>\n",
       "      <td>1.514098</td>\n",
       "      <td>0.005790</td>\n",
       "    </tr>\n",
       "    <tr>\n",
       "      <th>8233</th>\n",
       "      <td>8233</td>\n",
       "      <td>20.0</td>\n",
       "      <td>30.594978</td>\n",
       "      <td>25.254051</td>\n",
       "      <td>47.312160</td>\n",
       "      <td>1.790700</td>\n",
       "      <td>0.005819</td>\n",
       "    </tr>\n",
       "    <tr>\n",
       "      <th>8234</th>\n",
       "      <td>8234</td>\n",
       "      <td>20.0</td>\n",
       "      <td>29.990028</td>\n",
       "      <td>26.965759</td>\n",
       "      <td>47.502937</td>\n",
       "      <td>1.691538</td>\n",
       "      <td>0.005780</td>\n",
       "    </tr>\n",
       "  </tbody>\n",
       "</table>\n",
       "<p>8235 rows × 7 columns</p>\n",
       "</div>"
      ],
      "text/plain": [
       "      Unnamed: 0     t         x1         x2         x3  fit_residues  \\\n",
       "0              0   0.0  29.606052  28.750132  20.178068      3.468589   \n",
       "1              1   0.0  28.753433  30.732504  20.111330      3.432343   \n",
       "2              2   0.0  26.274553  30.055321  20.409670      3.050843   \n",
       "3              3   0.0  29.655508  31.567692  19.915390      3.299975   \n",
       "4              4   0.0  32.183094  28.610729  20.381533      3.433988   \n",
       "...          ...   ...        ...        ...        ...           ...   \n",
       "8230        8230  20.0  32.288338  27.393843  47.022659      1.809680   \n",
       "8231        8231  20.0  27.130127  27.070652  47.361084      1.375345   \n",
       "8232        8232  20.0  28.499922  28.843052  47.248196      1.514098   \n",
       "8233        8233  20.0  30.594978  25.254051  47.312160      1.790700   \n",
       "8234        8234  20.0  29.990028  26.965759  47.502937      1.691538   \n",
       "\n",
       "      curvatures  \n",
       "0       0.005049  \n",
       "1       0.004903  \n",
       "2       0.004945  \n",
       "3       0.005598  \n",
       "4       0.005524  \n",
       "...          ...  \n",
       "8230    0.005452  \n",
       "8231    0.006046  \n",
       "8232    0.005790  \n",
       "8233    0.005819  \n",
       "8234    0.005780  \n",
       "\n",
       "[8235 rows x 7 columns]"
      ]
     },
     "execution_count": 8,
     "metadata": {},
     "output_type": "execute_result"
    }
   ],
   "source": [
    "python_data = pd.read_csv(napari_results, sep='\\t')\n",
    "python_data"
   ]
  },
  {
   "cell_type": "code",
   "execution_count": 9,
   "id": "2a32c0a5-825e-4f7e-8712-024dd9bc81c7",
   "metadata": {},
   "outputs": [],
   "source": [
    "# Convert both arrays to arrays\n",
    "verts_python = python_data[['t', 'x1', 'x2', 'x3']].to_numpy()\n",
    "verts_matlab = Converter.list_of_data_to_data(matlab_points, layertype=napari.types.PointsData)"
   ]
  },
  {
   "cell_type": "code",
   "execution_count": 10,
   "id": "ce559920-c844-42f9-bd5f-aa07147850de",
   "metadata": {},
   "outputs": [],
   "source": [
    "# Multiply matlab points by dimensions\n",
    "verts_matlab = verts_matlab * np.asarray([1, vsx, vsx, vsx])[None, :]"
   ]
  },
  {
   "cell_type": "code",
   "execution_count": 11,
   "id": "13103be3-d399-44e1-ac6e-b86c7ee60da4",
   "metadata": {},
   "outputs": [],
   "source": [
    "verts_matlab_copy = np.zeros_like(verts_matlab)\n",
    "\n",
    "verts_matlab_copy[:, 0] = verts_matlab[:, 0]\n",
    "verts_matlab_copy[:, 1] = verts_matlab[:, 3]\n",
    "verts_matlab_copy[:, 2] = verts_matlab[:, 2]\n",
    "verts_matlab_copy[:, 3] = verts_matlab[:, 1]"
   ]
  },
  {
   "cell_type": "markdown",
   "id": "5a51bd28-886b-4846-921c-5877c0b215b7",
   "metadata": {},
   "source": [
    "We could first ask ourselves: by how many points is the surface characterized?"
   ]
  },
  {
   "cell_type": "code",
   "execution_count": 12,
   "id": "0aa2541e-c1f0-4976-93c9-3077ca4e392c",
   "metadata": {},
   "outputs": [
    {
     "data": {
      "text/plain": [
       "<matplotlib.legend.Legend at 0x2f46184cca0>"
      ]
     },
     "execution_count": 12,
     "metadata": {},
     "output_type": "execute_result"
    },
    {
     "data": {
      "image/png": "[encoded data removed]",
      "text/plain": [
       "<Figure size 432x288 with 1 Axes>"
      ]
     },
     "metadata": {
      "needs_background": "light"
     },
     "output_type": "display_data"
    }
   ],
   "source": [
    "_verts_python = Converter.data_to_list_of_data(verts_python, layertype=napari.types.PointsData)\n",
    "_verts_matlab = Converter.data_to_list_of_data(verts_matlab_copy, layertype=napari.types.PointsData)\n",
    "\n",
    "n_verts_matlab = [len(x) for x in _verts_matlab]\n",
    "n_verts_python = [len(x) for x in _verts_python]\n",
    "t = np.arange(len(matlab_points))\n",
    "\n",
    "fig, ax = plt.subplots()\n",
    "ax.scatter(t, n_verts_matlab, label = 'Matlab surface tracing')\n",
    "ax.scatter(t, n_verts_python, label = 'Python surface tracing')\n",
    "ax.set_xlabel('Timeframe')\n",
    "ax.set_ylabel('# vertices')\n",
    "ax.grid(which='major', linestyle='--', color='gray')\n",
    "ax.legend()"
   ]
  },
  {
   "cell_type": "code",
   "execution_count": 13,
   "id": "a4557d09-2c32-4d50-b5fa-57ac8e250c61",
   "metadata": {},
   "outputs": [
    {
     "data": {
      "text/plain": [
       "<Points layer 'Python points' at 0x2f460ea0d30>"
      ]
     },
     "execution_count": 13,
     "metadata": {},
     "output_type": "execute_result"
    }
   ],
   "source": [
    "viewer.add_points(verts_matlab_copy, name='Matlab points', face_color='blue', size=1)\n",
    "viewer.add_points(verts_python, name='Python points', face_color='orange', size=1)"
   ]
  },
  {
   "cell_type": "markdown",
   "id": "ae15e2f4-219b-4366-a10c-c20bcf5c1d2a",
   "metadata": {},
   "source": [
    "## Curvature\n",
    "\n",
    "Now, let's compare curvatures of both methods"
   ]
  },
  {
   "cell_type": "code",
   "execution_count": 14,
   "id": "7d293cfc-250c-4830-927e-faa7ffb39d05",
   "metadata": {},
   "outputs": [],
   "source": [
    "mean_curvatures_matlab = [x['meanCurvatureArray'] for x in matlab_data]\n",
    "mean_curvatures_python = [\n",
    "    python_data[python_data['t'] == t]['curvatures'].to_numpy() for t in python_data['t'].unique().astype(int)\n",
    "]"
   ]
  },
  {
   "cell_type": "markdown",
   "id": "d78ff3bf-449c-4d98-8f1d-ab47704f69ff",
   "metadata": {},
   "source": [
    "We will compare the mean curvatures of both datasets by means of\n",
    "\n",
    "- mean curvature of all vertices\n",
    "- median curvature of all vertices\n",
    "- 25/75% percentile curvature of all vertices\n",
    "\n",
    "...for every frame"
   ]
  },
  {
   "cell_type": "code",
   "execution_count": 17,
   "id": "433ed3a8-2fe7-4744-80c6-8504de6cf070",
   "metadata": {},
   "outputs": [],
   "source": [
    "curv_mean_python = [np.sqrt(np.mean(x)) for x in mean_curvatures_python]\n",
    "curv_median_python = [np.sqrt(np.median(x)) for x in mean_curvatures_python]\n",
    "\n",
    "curv_mean_matlab = [np.mean(x) for x in mean_curvatures_matlab]\n",
    "curv_median_matlab = [np.median(x) for x in mean_curvatures_matlab]"
   ]
  },
  {
   "cell_type": "code",
   "execution_count": 18,
   "id": "b6815da6-5058-44f9-8b81-d4dd84c29024",
   "metadata": {},
   "outputs": [
    {
     "data": {
      "text/plain": [
       "<matplotlib.legend.Legend at 0x2f46105c460>"
      ]
     },
     "execution_count": 18,
     "metadata": {},
     "output_type": "execute_result"
    },
    {
     "data": {
      "image/png": "[encoded data removed]",
      "text/plain": [
       "<Figure size 1080x360 with 2 Axes>"
      ]
     },
     "metadata": {
      "needs_background": "light"
     },
     "output_type": "display_data"
    }
   ],
   "source": [
    "fig, axes = plt.subplots(ncols = 2, figsize = (15, 5))\n",
    "\n",
    "axes[0].plot(t, curv_mean_python, label = 'Mean curvature Python')\n",
    "axes[0].plot(t, curv_median_python, label = 'Median curvature Python')\n",
    "axes[0].legend()\n",
    "\n",
    "\n",
    "axes[1].plot(t, curv_mean_matlab, label = 'Mean curvature Matlab')\n",
    "axes[1].plot(t, curv_median_matlab, label = 'Median curvature Matlab')\n",
    "axes[1].legend()"
   ]
  },
  {
   "cell_type": "code",
   "execution_count": null,
   "id": "8fe27e67-32ae-4341-af98-ae86790dffe6",
   "metadata": {},
   "outputs": [],
   "source": []
  }
 ],
 "metadata": {
  "kernelspec": {
   "display_name": "Python 3 (ipykernel)",
   "language": "python",
   "name": "python3"
  },
  "language_info": {
   "codemirror_mode": {
    "name": "ipython",
    "version": 3
   },
   "file_extension": ".py",
   "mimetype": "text/x-python",
   "name": "python",
   "nbconvert_exporter": "python",
   "pygments_lexer": "ipython3",
   "version": "3.9.12"
  }
 },
 "nbformat": 4,
 "nbformat_minor": 5
}
