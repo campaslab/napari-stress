{
 "cells": [
  {
   "cell_type": "code",
   "execution_count": 14,
   "id": "77c64789-a07e-4c6c-9415-f7937904e37c",
   "metadata": {},
   "outputs": [],
   "source": [
    "import napari\n",
    "from napari import layers\n",
    "from typing import NewType, List, Tuple, Any, Optional, Type, Union\n",
    "import numpy as np\n",
    "\n",
    "import magicgui\n",
    "from magicgui import register_type\n",
    "from magicgui.widgets._bases import CategoricalWidget\n",
    "from magicgui.widgets import FunctionGui\n",
    "\n",
    "from napari.utils._magicgui import find_viewer_ancestor"
   ]
  },
  {
   "cell_type": "code",
   "execution_count": 2,
   "id": "56f74038-19ff-45f2-922f-b0b8c0667558",
   "metadata": {},
   "outputs": [
    {
     "data": {
      "text/plain": [
       "<function typing.NewType.<locals>.new_type(x)>"
      ]
     },
     "execution_count": 2,
     "metadata": {},
     "output_type": "execute_result"
    }
   ],
   "source": [
    "curvature = NewType(\"mean_curvature\", np.ndarray)\n",
    "curvature"
   ]
  },
  {
   "cell_type": "code",
   "execution_count": 3,
   "id": "16d2be94-a5be-4ddb-8696-6c7c7fb46450",
   "metadata": {},
   "outputs": [],
   "source": [
    "def get_layers_features(gui: CategoricalWidget) -> List[layers.Layer]:\n",
    "    \"\"\"Retrieve layers matching gui.annotation, from the Viewer the gui is in.\n",
    "    Parameters\n",
    "    ----------\n",
    "    gui : magicgui.widgets.Widget\n",
    "        The instantiated MagicGui widget.  May or may not be docked in a\n",
    "        dock widget.\n",
    "    Returns\n",
    "    -------\n",
    "    tuple\n",
    "        Tuple of layers of type ``gui.annotation``\n",
    "    Examples\n",
    "    --------\n",
    "    This allows the user to do this, and get a dropdown box in their GUI\n",
    "    that shows the available image layers.\n",
    "    >>> @magicgui\n",
    "    ... def get_layer_mean(layer: napari.layers.Image) -> float:\n",
    "    ...     return layer.data.mean()\n",
    "    \"\"\"\n",
    "    if not (viewer := find_viewer_ancestor(gui.native)):\n",
    "        return ()\n",
    "\n",
    "    search_key = gui.annotation.__name__\n",
    "    search_fields = list(layer.features.keys()) + list(layer.metadata.keys())\n",
    "    \n",
    "    return [layer for layer in viewer.layers if search_key in search_fields]"
   ]
  },
  {
   "cell_type": "code",
   "execution_count": 4,
   "id": "83f5991f-84a7-4569-b79e-1df1370186db",
   "metadata": {},
   "outputs": [
    {
     "data": {
      "text/plain": [
       "<function typing.NewType.<locals>.new_type(x)>"
      ]
     },
     "execution_count": 4,
     "metadata": {},
     "output_type": "execute_result"
    }
   ],
   "source": [
    "register_type(\n",
    "    curvature,\n",
    "    choices = get_layers_features\n",
    ")"
   ]
  },
  {
   "cell_type": "code",
   "execution_count": 5,
   "id": "2ea1d2e9-1ce1-4ab9-962c-6f0189f7ed39",
   "metadata": {},
   "outputs": [],
   "source": [
    "def test_function(mean_curvature: curvature) -> curvature:\n",
    "    \n",
    "    layer = None\n",
    "    if isinstance(mean_curvature, layers.Layer):\n",
    "        layer = mean_curvature\n",
    "        mean_curvature = np.asarray(mean_curvature.features[curvature.__name__])\n",
    "        \n",
    "    result = mean_curvature * 10\n",
    "    if layer is not None:\n",
    "        layer.features['new_result'] = result\n",
    "    return result"
   ]
  },
  {
   "cell_type": "code",
   "execution_count": 6,
   "id": "ff432579-c860-41fb-9a30-37c922bf730c",
   "metadata": {},
   "outputs": [
    {
     "name": "stderr",
     "output_type": "stream",
     "text": [
      "WARNING: DirectWrite: CreateFontFaceFromHDC() failed (Indicates an error in an input file such as a font file.) for QFontDef(Family=\"8514oem\", pointsize=12, pixelsize=20, styleHint=5, weight=50, stretch=100, hintingPreference=0) LOGFONT(\"8514oem\", lfWidth=0, lfHeight=-20) dpi=192\n"
     ]
    },
    {
     "name": "stdout",
     "output_type": "stream",
     "text": [
      "Assistant skips harvesting pyclesperanto as it's not installed.\n"
     ]
    }
   ],
   "source": [
    "viewer = napari.Viewer()"
   ]
  },
  {
   "cell_type": "code",
   "execution_count": 7,
   "id": "b0148d82-a4ea-493f-89ee-66710dea1ce0",
   "metadata": {},
   "outputs": [
    {
     "data": {
      "text/plain": [
       "<Points layer 'Points' at 0x22c7336a850>"
      ]
     },
     "execution_count": 7,
     "metadata": {},
     "output_type": "execute_result"
    }
   ],
   "source": [
    "viewer.add_points(np.random.random((100,3)), features = {'mean_curvature': np.ones(100)})"
   ]
  },
  {
   "cell_type": "code",
   "execution_count": 8,
   "id": "c8c4d6e1-8544-4cda-8943-431526ae9ac1",
   "metadata": {},
   "outputs": [],
   "source": [
    "widget = magicgui.magicgui(test_function)\n",
    "widget = viewer.window.add_dock_widget(widget)"
   ]
  },
  {
   "cell_type": "code",
   "execution_count": 10,
   "id": "9ac09316-db11-41b4-ae5b-532da791a12b",
   "metadata": {},
   "outputs": [
    {
     "data": {
      "text/html": [
       "<div>\n",
       "<style scoped>\n",
       "    .dataframe tbody tr th:only-of-type {\n",
       "        vertical-align: middle;\n",
       "    }\n",
       "\n",
       "    .dataframe tbody tr th {\n",
       "        vertical-align: top;\n",
       "    }\n",
       "\n",
       "    .dataframe thead th {\n",
       "        text-align: right;\n",
       "    }\n",
       "</style>\n",
       "<table border=\"1\" class=\"dataframe\">\n",
       "  <thead>\n",
       "    <tr style=\"text-align: right;\">\n",
       "      <th></th>\n",
       "      <th>mean_curvature</th>\n",
       "      <th>new_result</th>\n",
       "    </tr>\n",
       "  </thead>\n",
       "  <tbody>\n",
       "    <tr>\n",
       "      <th>0</th>\n",
       "      <td>1.0</td>\n",
       "      <td>10.0</td>\n",
       "    </tr>\n",
       "    <tr>\n",
       "      <th>1</th>\n",
       "      <td>1.0</td>\n",
       "      <td>10.0</td>\n",
       "    </tr>\n",
       "    <tr>\n",
       "      <th>2</th>\n",
       "      <td>1.0</td>\n",
       "      <td>10.0</td>\n",
       "    </tr>\n",
       "    <tr>\n",
       "      <th>3</th>\n",
       "      <td>1.0</td>\n",
       "      <td>10.0</td>\n",
       "    </tr>\n",
       "    <tr>\n",
       "      <th>4</th>\n",
       "      <td>1.0</td>\n",
       "      <td>10.0</td>\n",
       "    </tr>\n",
       "    <tr>\n",
       "      <th>...</th>\n",
       "      <td>...</td>\n",
       "      <td>...</td>\n",
       "    </tr>\n",
       "    <tr>\n",
       "      <th>95</th>\n",
       "      <td>1.0</td>\n",
       "      <td>10.0</td>\n",
       "    </tr>\n",
       "    <tr>\n",
       "      <th>96</th>\n",
       "      <td>1.0</td>\n",
       "      <td>10.0</td>\n",
       "    </tr>\n",
       "    <tr>\n",
       "      <th>97</th>\n",
       "      <td>1.0</td>\n",
       "      <td>10.0</td>\n",
       "    </tr>\n",
       "    <tr>\n",
       "      <th>98</th>\n",
       "      <td>1.0</td>\n",
       "      <td>10.0</td>\n",
       "    </tr>\n",
       "    <tr>\n",
       "      <th>99</th>\n",
       "      <td>1.0</td>\n",
       "      <td>10.0</td>\n",
       "    </tr>\n",
       "  </tbody>\n",
       "</table>\n",
       "<p>100 rows × 2 columns</p>\n",
       "</div>"
      ],
      "text/plain": [
       "    mean_curvature  new_result\n",
       "0              1.0        10.0\n",
       "1              1.0        10.0\n",
       "2              1.0        10.0\n",
       "3              1.0        10.0\n",
       "4              1.0        10.0\n",
       "..             ...         ...\n",
       "95             1.0        10.0\n",
       "96             1.0        10.0\n",
       "97             1.0        10.0\n",
       "98             1.0        10.0\n",
       "99             1.0        10.0\n",
       "\n",
       "[100 rows x 2 columns]"
      ]
     },
     "execution_count": 10,
     "metadata": {},
     "output_type": "execute_result"
    }
   ],
   "source": [
    "widget()\n",
    "viewer.layers[-1].features"
   ]
  },
  {
   "cell_type": "markdown",
   "id": "d61c4c37-5d57-4e9d-b131-ebeb0ef01409",
   "metadata": {},
   "source": [
    "## different approach: union types"
   ]
  },
  {
   "cell_type": "code",
   "execution_count": 20,
   "id": "4458ff1d-aef9-41c4-9ea7-83bcb2914acb",
   "metadata": {},
   "outputs": [],
   "source": [
    "def test_function2(arg1: Union[layers.Points, np.ndarray]) -> np.ndarray:\n",
    "    return arg1\n",
    "                               "
   ]
  },
  {
   "cell_type": "code",
   "execution_count": 23,
   "id": "521267a8-1ca2-4222-8f20-c9a4d146dcb6",
   "metadata": {},
   "outputs": [
    {
     "data": {
      "text/plain": [
       "'0.5.1'"
      ]
     },
     "execution_count": 23,
     "metadata": {},
     "output_type": "execute_result"
    }
   ],
   "source": [
    "magicgui.__version__"
   ]
  },
  {
   "cell_type": "code",
   "execution_count": null,
   "id": "69cb31f0-cd15-4bba-b8c9-e5f9a5bf6d99",
   "metadata": {},
   "outputs": [],
   "source": []
  }
 ],
 "metadata": {
  "kernelspec": {
   "display_name": "Python 3 (ipykernel)",
   "language": "python",
   "name": "python3"
  },
  "language_info": {
   "codemirror_mode": {
    "name": "ipython",
    "version": 3
   },
   "file_extension": ".py",
   "mimetype": "text/x-python",
   "name": "python",
   "nbconvert_exporter": "python",
   "pygments_lexer": "ipython3",
   "version": "3.9.12"
  }
 },
 "nbformat": 4,
 "nbformat_minor": 5
}
