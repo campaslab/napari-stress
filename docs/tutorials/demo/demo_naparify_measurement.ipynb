{
 "cells": [
  {
   "cell_type": "markdown",
   "id": "368f5cab-6a1d-49fd-91fb-63a5c28483f1",
   "metadata": {},
   "source": [
    "# Naparify measurement\n",
    "\n",
    "...or how to pass abbstract data types between napari and napari-stress more freely"
   ]
  },
  {
   "cell_type": "code",
   "execution_count": 1,
   "id": "f3128eb8-1df3-431e-a020-98625b89bffe",
   "metadata": {},
   "outputs": [],
   "source": [
    "import napari\n",
    "import napari_stress\n",
    "import numpy as np\n",
    "\n",
    "import inspect\n",
    "from magicgui import magicgui"
   ]
  },
  {
   "cell_type": "code",
   "execution_count": 17,
   "id": "ffd1dd1b-db84-43c1-93ef-bc675fdf11fc",
   "metadata": {},
   "outputs": [],
   "source": [
    "def some_function(parameter1: napari_stress.types.manifold, parameter2: napari_stress.types.Curvature, sigma: float) -> (np.ndarray, dict, dict):\n",
    "    features = {'feature1': np.random.random(434)}\n",
    "    metadata = {'test': 'yes!'}\n",
    "    return None, features, metadata"
   ]
  },
  {
   "cell_type": "markdown",
   "id": "09303285-fa1d-4044-a8b5-4f1c72aa6da2",
   "metadata": {},
   "source": [
    "Investigate the signature of the dummy function as-is:"
   ]
  },
  {
   "cell_type": "code",
   "execution_count": 18,
   "id": "266a1605-41c4-4d5a-910b-c4333de72e17",
   "metadata": {},
   "outputs": [
    {
     "data": {
      "text/plain": [
       "<Signature (parameter1: napari_stress._stress.manifold_SPB.manifold, parameter2: <function NewType.<locals>.new_type at 0x000002673A9BED30>, sigma: float) -> (<class 'numpy.ndarray'>, <class 'dict'>, <class 'dict'>)>"
      ]
     },
     "execution_count": 18,
     "metadata": {},
     "output_type": "execute_result"
    }
   ],
   "source": [
    "inspect.signature(some_function)"
   ]
  },
  {
   "cell_type": "markdown",
   "id": "2ef6f2e2-ba89-4b30-b990-9ed3f6ddb2f5",
   "metadata": {},
   "source": [
    "Now we use the `naparify_measurement` decorator and see that the decorator correctly replaces some of the input annotations with `napari.layers.Points`:"
   ]
  },
  {
   "cell_type": "code",
   "execution_count": 19,
   "id": "9bb5fb8a-be9b-49bc-9fea-312d054f1b7d",
   "metadata": {},
   "outputs": [
    {
     "data": {
      "text/plain": [
       "<Signature (parameter1: 'napari.layers.Points', parameter2: 'napari.layers.Points', sigma: float)>"
      ]
     },
     "execution_count": 19,
     "metadata": {},
     "output_type": "execute_result"
    }
   ],
   "source": [
    "decorated_function = napari_stress.measurements.utils.naparify_measurement(some_function)\n",
    "inspect.signature(decorated_function)"
   ]
  },
  {
   "cell_type": "code",
   "execution_count": 5,
   "id": "e2a4e791-ab6f-477c-a188-20ffd23e5070",
   "metadata": {},
   "outputs": [
    {
     "data": {
      "image/png": "[encoded data removed]",
      "text/plain": [
       "<FunctionGui some_function(parameter1: napari.layers.points.points.Points = None, parameter2: napari.layers.points.points.Points = None, sigma: float = 0.0)>"
      ]
     },
     "execution_count": 5,
     "metadata": {},
     "output_type": "execute_result"
    }
   ],
   "source": [
    "magicgui(decorated_function)"
   ]
  },
  {
   "cell_type": "markdown",
   "id": "c24ef499-ed78-4e1a-9975-f1bff58c1742",
   "metadata": {},
   "source": [
    "### Test on real  data"
   ]
  },
  {
   "cell_type": "code",
   "execution_count": 6,
   "id": "96bce56a-e0cb-41a8-9b64-3658bdd3c402",
   "metadata": {},
   "outputs": [],
   "source": [
    "viewer = napari.Viewer()\n",
    "\n",
    "pointcloud = napari_stress.get_droplet_point_cloud()[0]\n",
    "viewer.add_points(pointcloud[0][:, 1:], **pointcloud[1])\n",
    "\n",
    "expansion = napari_stress.fit_spherical_harmonics(viewer.layers[-1].data)\n",
    "viewer.add_points(expansion[0], **expansion[1])\n",
    "\n",
    "lebedev_points = napari_stress._spherical_harmonics.spherical_harmonics_napari.perform_lebedev_quadrature(viewer.layers[-1], viewer=viewer)\n",
    "results_layer = viewer.layers[-1]"
   ]
  },
  {
   "cell_type": "markdown",
   "id": "659f741d-30fe-4d57-8ce6-94897643ca27",
   "metadata": {},
   "source": [
    "The `napari_stress.measurements.calculate_mean_curvature_on_manifold` function is annotated like this:"
   ]
  },
  {
   "cell_type": "code",
   "execution_count": 7,
   "id": "2972a681-a88d-466f-99fb-50f88c9e892f",
   "metadata": {},
   "outputs": [
    {
     "name": "stdout",
     "output_type": "stream",
     "text": [
      "Old: <class 'napari_stress._stress.manifold_SPB.manifold'> New: napari.layers.Points\n"
     ]
    }
   ],
   "source": [
    "napari_stress.measurements.calculate_mean_curvature_on_manifold(results_layer)"
   ]
  },
  {
   "cell_type": "code",
   "execution_count": 8,
   "id": "35dd4329-3b97-4cb6-9b28-eb146c2f75b5",
   "metadata": {},
   "outputs": [
    {
     "data": {
      "text/plain": [
       "Index(['error', 'Mean_curvature'], dtype='object')"
      ]
     },
     "execution_count": 8,
     "metadata": {},
     "output_type": "execute_result"
    }
   ],
   "source": [
    "results_layer.features.keys()"
   ]
  },
  {
   "cell_type": "code",
   "execution_count": 9,
   "id": "65db813a-9b3a-42b2-96db-4cb16fa2e7d8",
   "metadata": {},
   "outputs": [
    {
     "data": {
      "text/plain": [
       "dict_keys(['spherical_harmonics_coefficients', 'spherical_harmonics_implementation', 'manifold', 'H0_arithmetic_average', 'H0_surface_integral'])"
      ]
     },
     "execution_count": 9,
     "metadata": {},
     "output_type": "execute_result"
    }
   ],
   "source": [
    "results_layer.metadata.keys()"
   ]
  },
  {
   "cell_type": "code",
   "execution_count": 20,
   "id": "239cafe7-d189-4c93-b2e0-388311baaec9",
   "metadata": {},
   "outputs": [
    {
     "name": "stdout",
     "output_type": "stream",
     "text": [
      "Old: <class 'napari_stress._stress.manifold_SPB.manifold'> New: napari.layers.Points\n",
      "Old: <function NewType.<locals>.new_type at 0x000002673A9BED30> New: napari.layers.Points\n",
      "Old: <class 'float'> New: <class 'float'>\n"
     ]
    }
   ],
   "source": [
    "decorated_function(results_layer, results_layer, sigma=1)"
   ]
  },
  {
   "cell_type": "code",
   "execution_count": 24,
   "id": "b7553eb4-eefb-4cc1-a40c-2786caac4416",
   "metadata": {},
   "outputs": [
    {
     "data": {
      "text/plain": [
       "Index(['error', 'Mean_curvature', 'feature1'], dtype='object')"
      ]
     },
     "execution_count": 24,
     "metadata": {},
     "output_type": "execute_result"
    }
   ],
   "source": [
    "results_layer.features.keys()"
   ]
  },
  {
   "cell_type": "code",
   "execution_count": 23,
   "id": "083c67cd-856c-4ce3-a5cb-9092e3b3b1ee",
   "metadata": {},
   "outputs": [
    {
     "data": {
      "text/plain": [
       "dict_keys(['spherical_harmonics_coefficients', 'spherical_harmonics_implementation', 'manifold', 'H0_arithmetic_average', 'H0_surface_integral', 'test'])"
      ]
     },
     "execution_count": 23,
     "metadata": {},
     "output_type": "execute_result"
    }
   ],
   "source": [
    "results_layer.metadata.keys()"
   ]
  },
  {
   "cell_type": "code",
   "execution_count": null,
   "id": "ae729c6e-d3dd-4664-8dde-b276884c7139",
   "metadata": {},
   "outputs": [],
   "source": []
  }
 ],
 "metadata": {
  "kernelspec": {
   "display_name": "Python 3 (ipykernel)",
   "language": "python",
   "name": "python3"
  },
  "language_info": {
   "codemirror_mode": {
    "name": "ipython",
    "version": 3
   },
   "file_extension": ".py",
   "mimetype": "text/x-python",
   "name": "python",
   "nbconvert_exporter": "python",
   "pygments_lexer": "ipython3",
   "version": "3.9.12"
  }
 },
 "nbformat": 4,
 "nbformat_minor": 5
}
