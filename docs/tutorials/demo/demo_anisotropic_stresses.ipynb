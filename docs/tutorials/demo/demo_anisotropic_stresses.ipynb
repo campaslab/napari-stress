{
 "cells": [
  {
   "cell_type": "code",
   "execution_count": 1,
   "id": "c3b0c9d3-9b47-41f2-b2bb-abe587789302",
   "metadata": {},
   "outputs": [],
   "source": [
    "import napari\n",
    "import napari_stress\n",
    "from napari_stress import measurements, approximation\n",
    "import matplotlib.pyplot as plt\n",
    "\n",
    "import numpy as np"
   ]
  },
  {
   "cell_type": "code",
   "execution_count": 2,
   "id": "8553bb16-0e37-4d54-b54a-e754d2532dec",
   "metadata": {},
   "outputs": [],
   "source": [
    "# Get some sample data\n",
    "pointcloud = napari_stress.get_droplet_point_cloud()[0]"
   ]
  },
  {
   "cell_type": "code",
   "execution_count": 3,
   "id": "70ef2f5e-8146-429c-a5a1-e40840b260b1",
   "metadata": {},
   "outputs": [
    {
     "name": "stderr",
     "output_type": "stream",
     "text": [
      "WARNING: DirectWrite: CreateFontFaceFromHDC() failed (Indicates an error in an input file such as a font file.) for QFontDef(Family=\"8514oem\", pointsize=12, pixelsize=20, styleHint=5, weight=50, stretch=100, hintingPreference=0) LOGFONT(\"8514oem\", lfWidth=0, lfHeight=-20) dpi=192\n"
     ]
    },
    {
     "name": "stdout",
     "output_type": "stream",
     "text": [
      "Assistant skips harvesting pyclesperanto as it's not installed.\n"
     ]
    },
    {
     "name": "stderr",
     "output_type": "stream",
     "text": [
      "WARNING: QWindowsWindow::setGeometry: Unable to set geometry 2180x1370+1592+448 (frame: 2206x1441+1579+390) on QWidgetWindow/\"_QtMainWindowClassWindow\" on \"\\\\.\\DISPLAY4\". Resulting geometry: 4366x2119+1597+475 (frame: 4392x2190+1584+417) margins: 13, 58, 13, 13 minimum size: 608x557 MINMAXINFO maxSize=0,0 maxpos=0,0 mintrack=634,628 maxtrack=0,0)\n",
      "22-Aug-22 14:22:37 - vispy    - WARNING  - QWindowsWindow::setGeometry: Unable to set geometry 2180x1370+1592+448 (frame: 2206x1441+1579+390) on QWidgetWindow/\"_QtMainWindowClassWindow\" on \"\\\\.\\DISPLAY4\". Resulting geometry: 4366x2119+1597+475 (frame: 4392x2190+1584+417) margins: 13, 58, 13, 13 minimum size: 608x557 MINMAXINFO maxSize=0,0 maxpos=0,0 mintrack=634,628 maxtrack=0,0)\n"
     ]
    }
   ],
   "source": [
    "viewer = napari.Viewer(ndisplay=3)"
   ]
  },
  {
   "cell_type": "code",
   "execution_count": 4,
   "id": "6f2032ca-f5ab-4d20-8348-b6b1a2578208",
   "metadata": {},
   "outputs": [],
   "source": [
    "layer_raw = viewer.add_layer(napari.layers.Layer.create(data = pointcloud[0], meta=pointcloud[1], layer_type=pointcloud[2]))"
   ]
  },
  {
   "cell_type": "code",
   "execution_count": 5,
   "id": "6ed80503-bf14-4612-a927-8cee7da75f8b",
   "metadata": {},
   "outputs": [],
   "source": [
    "max_degree = 5"
   ]
  },
  {
   "cell_type": "markdown",
   "id": "49fd1adf-1dbe-4393-a34d-356e25adbf82",
   "metadata": {},
   "source": [
    "## Ellipsoid fit"
   ]
  },
  {
   "cell_type": "code",
   "execution_count": 6,
   "id": "f54a7eed-968d-40bd-a14e-272be813fd24",
   "metadata": {},
   "outputs": [],
   "source": [
    "fitted_ellipsoid = approximation.least_squares_ellipsoid(pointcloud[0])\n",
    "fitted_ellipse_points = approximation.expand_points_on_ellipse(fitted_ellipsoid, pointcloud[0])"
   ]
  },
  {
   "cell_type": "code",
   "execution_count": 7,
   "id": "c17d0e04-bce6-4e38-af85-51b6f175e9c4",
   "metadata": {},
   "outputs": [],
   "source": [
    "_,ellipsoid_features, ellipsoid_metadata = measurements.curvature_on_ellipsoid(fitted_ellipsoid, fitted_ellipse_points)"
   ]
  },
  {
   "cell_type": "code",
   "execution_count": 8,
   "id": "bb5e168b-c7bc-447d-8f04-e1e51dcf42a9",
   "metadata": {},
   "outputs": [],
   "source": [
    "mean_curvature_ellipsoid = ellipsoid_features['mean_curvature']\n",
    "H_ellipsoid_major_medial_minor = ellipsoid_metadata['H_ellipsoid_major_medial_minor']"
   ]
  },
  {
   "cell_type": "code",
   "execution_count": 9,
   "id": "8a87f381-d3e0-437e-9826-0b1002cb7ee7",
   "metadata": {},
   "outputs": [
    {
     "data": {
      "text/plain": [
       "<Points layer 'fitted_ellipse_points' at 0x2041746eb20>"
      ]
     },
     "execution_count": 9,
     "metadata": {},
     "output_type": "execute_result"
    }
   ],
   "source": [
    "viewer.add_vectors(fitted_ellipsoid)\n",
    "viewer.add_points(fitted_ellipse_points, features = ellipsoid_features, face_color = 'mean_curvature', size=0.5, face_colormap = 'jet')"
   ]
  },
  {
   "cell_type": "markdown",
   "id": "30aab25b-131c-41a2-a73c-491234e97b8c",
   "metadata": {},
   "source": [
    "Now do a spherical harmonics expansion of the ellipsoid points:"
   ]
  },
  {
   "cell_type": "code",
   "execution_count": 10,
   "id": "d7d0741e-9b1c-402c-bf84-5ab96764c563",
   "metadata": {},
   "outputs": [],
   "source": [
    "fitted_ellipse_points_spherical_harmoniocs = napari_stress.fit_spherical_harmonics(fitted_ellipse_points, max_degree=max_degree)\n",
    "coefficients = fitted_ellipse_points_spherical_harmoniocs[1]['metadata']['spherical_harmonics_coefficients']\n",
    "quadrature_points, lebedev_fit = napari_stress.lebedev_quadrature(coefficients=coefficients, number_of_quadrature_points=500, use_minimal_point_set=False)\n",
    "manifold = napari_stress.create_manifold(quadrature_points, lebedev_fit=lebedev_fit, max_degree=max_degree)"
   ]
  },
  {
   "cell_type": "code",
   "execution_count": 11,
   "id": "6e68af5f-0224-4318-83eb-0cf6ec8fa007",
   "metadata": {},
   "outputs": [
    {
     "name": "stdout",
     "output_type": "stream",
     "text": [
      "Old: <class 'napari_stress._stress.manifold_SPB.manifold'> New: napari.layers.Points\n",
      "dict_keys(['Mean_curvature_at_lebedev_points'])\n",
      "dict_keys(['H0_arithmetic_average', 'H0_surface_integral'])\n"
     ]
    }
   ],
   "source": [
    "_, features, metadata = measurements.calculate_mean_curvature_on_manifold(manifold)\n",
    "print(features.keys())\n",
    "print(metadata.keys())"
   ]
  },
  {
   "cell_type": "code",
   "execution_count": 12,
   "id": "31514c3d-3ba3-42d4-a8b6-d9056d327e5c",
   "metadata": {},
   "outputs": [],
   "source": [
    "H0_surface_integral_ellipsoid = metadata['H0_surface_integral']\n",
    "mean_curvature_ellipsoid = features['Mean_curvature_at_lebedev_points']"
   ]
  },
  {
   "cell_type": "markdown",
   "id": "4df02634-560b-4b4d-8af6-6cce2c9b8f43",
   "metadata": {},
   "source": [
    "## Spherical harmonics expansion"
   ]
  },
  {
   "cell_type": "code",
   "execution_count": 13,
   "id": "ccbbafa3-dd6c-4e0e-8a7d-762c371c5e3a",
   "metadata": {},
   "outputs": [],
   "source": [
    "fitted_points = napari_stress.fit_spherical_harmonics(pointcloud[0], max_degree=max_degree)\n",
    "fitted_points_layer = viewer.add_points(fitted_points[0], **fitted_points[1], name='spherical harmonics expansion')"
   ]
  },
  {
   "cell_type": "code",
   "execution_count": 14,
   "id": "d932b791-2326-4c0f-86a8-6cc87890bb4c",
   "metadata": {},
   "outputs": [],
   "source": [
    "coefficients = fitted_points[1]['metadata']['spherical_harmonics_coefficients']\n",
    "quadrature_points, lebedev_fit = napari_stress.lebedev_quadrature(coefficients=coefficients, number_of_quadrature_points=500, use_minimal_point_set=False)\n",
    "manifold = napari_stress.create_manifold(quadrature_points, lebedev_fit=lebedev_fit, max_degree=max_degree)"
   ]
  },
  {
   "cell_type": "code",
   "execution_count": 15,
   "id": "31106535-9c04-45ab-905a-057172bd78d9",
   "metadata": {},
   "outputs": [
    {
     "name": "stdout",
     "output_type": "stream",
     "text": [
      "Old: <class 'napari_stress._stress.manifold_SPB.manifold'> New: napari.layers.Points\n",
      "dict_keys(['Mean_curvature_at_lebedev_points'])\n",
      "dict_keys(['H0_arithmetic_average', 'H0_surface_integral'])\n"
     ]
    }
   ],
   "source": [
    "_, features, metadata = measurements.calculate_mean_curvature_on_manifold(manifold)\n",
    "print(features.keys())\n",
    "print(metadata.keys())"
   ]
  },
  {
   "cell_type": "code",
   "execution_count": 16,
   "id": "040d2fe4-5d9c-44f1-858e-b9f17581aa89",
   "metadata": {},
   "outputs": [],
   "source": [
    "H0_surface_integral_spherical_harmonics = metadata['H0_surface_integral']\n",
    "mean_curvature_spherical_harmonics = features['Mean_curvature_at_lebedev_points']"
   ]
  },
  {
   "cell_type": "markdown",
   "id": "f32a4e28-fdb3-4698-bcf1-04eae9d6e894",
   "metadata": {},
   "source": [
    "## Stresses"
   ]
  },
  {
   "cell_type": "code",
   "execution_count": 17,
   "id": "488c11c1-2524-4f46-a585-f9a2879783cc",
   "metadata": {},
   "outputs": [],
   "source": [
    "gamma = 0.5  # N/m"
   ]
  },
  {
   "cell_type": "markdown",
   "id": "e8c2ee47-68b6-4075-9cc9-ac3aedb6f62c",
   "metadata": {},
   "source": [
    "### Tissue-scale"
   ]
  },
  {
   "cell_type": "code",
   "execution_count": 18,
   "id": "4aead4cd-c385-40cc-ba2e-731ce160e39e",
   "metadata": {},
   "outputs": [],
   "source": [
    "# use H0_Ellpsoid to calculate tissue stress projections:\n",
    "sigma_11_e = 2 * gamma * (H_ellipsoid_major_medial_minor[0] - H0_surface_integral_ellipsoid)\n",
    "sigma_22_e = 2 * gamma * (H_ellipsoid_major_medial_minor[1] - H0_surface_integral_ellipsoid)\n",
    "sigma_33_e = 2 * gamma * (H_ellipsoid_major_medial_minor[2] - H0_surface_integral_ellipsoid)"
   ]
  },
  {
   "cell_type": "code",
   "execution_count": 19,
   "id": "bb9d741b-f11d-4914-8c88-bd9e84a2c353",
   "metadata": {},
   "outputs": [
    {
     "data": {
      "text/plain": [
       "array([[ 0.01600191,  0.        ,  0.        ],\n",
       "       [ 0.        , -0.00048086,  0.        ],\n",
       "       [ 0.        ,  0.        , -0.01086109]])"
      ]
     },
     "execution_count": 19,
     "metadata": {},
     "output_type": "execute_result"
    }
   ],
   "source": [
    "# tissue stress tensor (elliptical coordinates)\n",
    "Tissue_Stress_Tensor_elliptical = np.zeros((3,3))\n",
    "Tissue_Stress_Tensor_elliptical[0,0] = sigma_11_e\n",
    "Tissue_Stress_Tensor_elliptical[1,1] = sigma_22_e\n",
    "Tissue_Stress_Tensor_elliptical[2,2] = sigma_33_e\n",
    "Tissue_Stress_Tensor_elliptical"
   ]
  },
  {
   "cell_type": "code",
   "execution_count": 20,
   "id": "51d75015-67e7-4f8c-aba7-09cc0e2254ad",
   "metadata": {},
   "outputs": [],
   "source": [
    "# get rotation matrix:\n",
    "Rotation_matrix = fitted_ellipsoid[:, 1].T  # the normalized major/minor axis vectors used as column vectors compose the orientation matrix of the ellipsoid\n",
    "Rotation_matrix = Rotation_matrix / np.linalg.norm(Rotation_matrix, axis=0)"
   ]
  },
  {
   "cell_type": "markdown",
   "id": "1b0ea7aa-ea73-4067-81a3-8ae3283f4044",
   "metadata": {},
   "source": [
    "To prove that this is a rotation matrix we multiply it with its inverse - this should return the identiy matrix"
   ]
  },
  {
   "cell_type": "code",
   "execution_count": 21,
   "id": "73f93f77-b664-4fbb-8eed-6705d8593a28",
   "metadata": {},
   "outputs": [
    {
     "data": {
      "text/plain": [
       "array([[ 1.00000000e+00,  3.06750253e-16, -3.49196291e-17],\n",
       "       [ 3.06750253e-16,  1.00000000e+00, -2.21854909e-17],\n",
       "       [-3.49196291e-17, -2.21854909e-17,  1.00000000e+00]])"
      ]
     },
     "execution_count": 21,
     "metadata": {},
     "output_type": "execute_result"
    }
   ],
   "source": [
    "np.dot(Rotation_matrix, Rotation_matrix.T)"
   ]
  },
  {
   "cell_type": "code",
   "execution_count": 22,
   "id": "7bc525a8-3fb2-43e9-9aec-8b0753744ccc",
   "metadata": {},
   "outputs": [
    {
     "data": {
      "text/plain": [
       "array([[ 0.00201583, -0.00479792, -0.00491557],\n",
       "       [-0.00479792,  0.00872738,  0.00901813],\n",
       "       [-0.00491557,  0.00901813, -0.00608324]])"
      ]
     },
     "execution_count": 22,
     "metadata": {},
     "output_type": "execute_result"
    }
   ],
   "source": [
    "# cartesian tissue stress tensor:\n",
    "basis_matrix = fitted_ellipsoid\n",
    "Tissue_Stress_Tensor_cartesian = np.dot( np.dot(Rotation_matrix.T ,Tissue_Stress_Tensor_elliptical), Rotation_matrix)\n",
    "sigma_11_tissue_x = Tissue_Stress_Tensor_cartesian[0,0]\n",
    "sigma_22_tissue_y = Tissue_Stress_Tensor_cartesian[1,1]\n",
    "sigma_33_tissue_z = Tissue_Stress_Tensor_cartesian[2,2]\n",
    "Tissue_Stress_Tensor_cartesian"
   ]
  },
  {
   "cell_type": "markdown",
   "id": "46d81c98-d236-4c37-b3e0-41f64961ab5c",
   "metadata": {},
   "source": [
    "### Cell-scale"
   ]
  },
  {
   "cell_type": "code",
   "execution_count": 23,
   "id": "a4815267-f736-4b85-92d8-45e7154fc405",
   "metadata": {},
   "outputs": [],
   "source": [
    "# get quadrature points on ellipsoid surface\n",
    "quadrature_points_on_ellipsoid = approximation.expand_points_on_ellipse(fitted_ellipsoid, quadrature_points)\n",
    "_, features, metadata = measurements.curvature_on_ellipsoid(fitted_ellipsoid, quadrature_points_on_ellipsoid)\n",
    "mean_curvature_ellipsoid_lebedev_points = features['mean_curvature']"
   ]
  },
  {
   "cell_type": "code",
   "execution_count": 24,
   "id": "93d48207-c669-48d1-9fa8-652398be05d1",
   "metadata": {},
   "outputs": [],
   "source": [
    "anisotropic_stress_cell = 2 * gamma * (mean_curvature_spherical_harmonics - H0_surface_integral_spherical_harmonics)\n",
    "anisotropic_stress_quadrature_points_cell = 2 * gamma * (mean_curvature_spherical_harmonics - mean_curvature_ellipsoid_lebedev_points - \n",
    "                                                        (H0_surface_integral_spherical_harmonics- H0_surface_integral_ellipsoid))\n",
    "anisotropic_stress_tissue_quadrature_points = 2 * gamma * (mean_curvature_ellipsoid_lebedev_points - H0_surface_integral_ellipsoid)"
   ]
  }
 ],
 "metadata": {
  "kernelspec": {
   "display_name": "Python 3 (ipykernel)",
   "language": "python",
   "name": "python3"
  },
  "language_info": {
   "codemirror_mode": {
    "name": "ipython",
    "version": 3
   },
   "file_extension": ".py",
   "mimetype": "text/x-python",
   "name": "python",
   "nbconvert_exporter": "python",
   "pygments_lexer": "ipython3",
   "version": "3.9.12"
  }
 },
 "nbformat": 4,
 "nbformat_minor": 5
}
