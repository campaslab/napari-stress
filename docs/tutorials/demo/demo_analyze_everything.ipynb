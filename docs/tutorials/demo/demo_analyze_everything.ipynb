{
 "cells": [
  {
   "cell_type": "markdown",
   "id": "75bf2599-5a29-4dfc-b0b0-7cecc3c7ab33",
   "metadata": {},
   "source": [
    "# Analyze everything\n",
    "\n",
    "This notebook demonstrates how to run a complete STRESS analysis in a few lines of code and produce all relevant output graphs."
   ]
  },
  {
   "cell_type": "code",
   "execution_count": 1,
   "id": "92cdbcda-ad6d-4048-a1eb-f2a452969326",
   "metadata": {},
   "outputs": [],
   "source": [
    "import napari_stress\n",
    "import napari\n",
    "import numpy as np\n",
    "from napari_stress import reconstruction, approximation, measurements, frame_by_frame, TimelapseConverter\n",
    "import napari_process_points_and_surfaces as nppas\n",
    "import vedo"
   ]
  },
  {
   "cell_type": "markdown",
   "id": "716ffd69-3080-41a0-b5d1-031d5008e80a",
   "metadata": {},
   "source": [
    "## Config\n",
    "\n",
    "### Data dimensions\n",
    "You need to set a few parameters pertaining to your data:"
   ]
  },
  {
   "cell_type": "code",
   "execution_count": 2,
   "id": "84dee937-8ecd-4f19-81c0-8d67e708d727",
   "metadata": {},
   "outputs": [],
   "source": [
    "voxel_size_x = 1.0  # microns\n",
    "voxel_size_y = 1.0  # microns\n",
    "voxel_size_z = 1.93  # microns\n",
    "target_voxel_size = 1.0  # microns"
   ]
  },
  {
   "cell_type": "markdown",
   "id": "dab632d6-e1fe-4265-b6dd-c0739906ca17",
   "metadata": {},
   "source": [
    "### Droplet reconstruction parameters\n",
    "\n",
    "All of the parameters are explained in more detail [here](point_and_click:droplet_reconstruction)."
   ]
  },
  {
   "cell_type": "code",
   "execution_count": 3,
   "id": "35d09328-5c99-4e4c-809e-28e6498212e6",
   "metadata": {},
   "outputs": [],
   "source": [
    "n_smoothing_iterations = 10\n",
    "n_points_first_guess = 256\n",
    "n_tracing_iterations = 1\n",
    "resampling_length = 1\n",
    "fit_type = 'fancy'  # can be 'fancy' or 'quick'\n",
    "edge_type = 'interior'  # can be 'interior' or 'surface'\n",
    "trace_length = 10\n",
    "trace_sampling_distance = 0.5"
   ]
  },
  {
   "cell_type": "markdown",
   "id": "9549219b-7f11-4256-af61-d1e7a6657fda",
   "metadata": {},
   "source": [
    "### Stress analysis parameters\n",
    "All of the used parameters are explained in more detail [here](point_and_click:stress_toolbox)."
   ]
  },
  {
   "cell_type": "code",
   "execution_count": 4,
   "id": "c011ebda-b9f0-4bb9-9db7-46b3947af1cc",
   "metadata": {},
   "outputs": [],
   "source": [
    "max_degree = 10  # spherical harmonics degree\n",
    "n_quadrature_points = 434  # number of quadrature points to measure on\n",
    "gamma = 6.0  # interfacial tension of droplet"
   ]
  },
  {
   "cell_type": "code",
   "execution_count": 5,
   "id": "a9dd85e7-1bd1-4c90-94b2-bb79476ff06f",
   "metadata": {},
   "outputs": [
    {
     "name": "stderr",
     "output_type": "stream",
     "text": [
      "WARNING: QWindowsWindow::setGeometry: Unable to set geometry 11520x4611+960+312 (frame: 11552x4699+944+240) on QWidgetWindow/\"_QtMainWindowClassWindow\" on \"\\\\.\\DISPLAY1\". Resulting geometry: 7684x2108+960+312 (frame: 7716x2196+944+240) margins: 16, 72, 16, 16 minimum size: 474x553 MINMAXINFO maxSize=0,0 maxpos=0,0 mintrack=1454,1747 maxtrack=0,0)\n"
     ]
    }
   ],
   "source": [
    "viewer = napari.Viewer(ndisplay=3)"
   ]
  },
  {
   "cell_type": "code",
   "execution_count": 6,
   "id": "eefefc3d-f2b7-4959-8de4-d41a683ab7d2",
   "metadata": {},
   "outputs": [
    {
     "data": {
      "text/plain": [
       "(21, 16, 30, 31)"
      ]
     },
     "execution_count": 6,
     "metadata": {},
     "output_type": "execute_result"
    }
   ],
   "source": [
    "example_data = napari_stress.get_droplet_4d()[0][0]\n",
    "example_data.shape"
   ]
  },
  {
   "cell_type": "code",
   "execution_count": 7,
   "id": "844ff331-de44-44dd-a584-50da9abe8357",
   "metadata": {},
   "outputs": [
    {
     "data": {
      "text/plain": [
       "<Image layer 'example_data' at 0x2c8b2f2f760>"
      ]
     },
     "execution_count": 7,
     "metadata": {},
     "output_type": "execute_result"
    }
   ],
   "source": [
    "viewer.add_image(example_data)"
   ]
  },
  {
   "cell_type": "code",
   "execution_count": null,
   "id": "1ca6756f-cc9e-454f-bef9-906ed59c3657",
   "metadata": {},
   "outputs": [
    {
     "name": "stdout",
     "output_type": "stream",
     "text": [
      "Jupyter environment detected. Enabling Open3D WebVisualizer.\n",
      "[Open3D INFO] WebRTC GUI backend enabled.\n",
      "[Open3D INFO] WebRTCWindowSystem: HTTP handshake server disabled.\n"
     ]
    },
    {
     "name": "stderr",
     "output_type": "stream",
     "text": [
      "Processing vertices...: 100%|████████████████████████| 429/429 [00:01<00:00, 339.28it/s]\n",
      "Processing vertices...: 100%|████████████████████████| 424/424 [00:01<00:00, 343.76it/s]\n",
      "Processing vertices...: 100%|████████████████████████| 424/424 [00:01<00:00, 378.84it/s]\n",
      "Processing vertices...:  50%|███████████▉            | 211/426 [00:00<00:00, 342.93it/s]"
     ]
    }
   ],
   "source": [
    "results_reconstruction = reconstruction.reconstruct_droplet(example_data,\n",
    "                                                            voxelsize=np.asarray([voxel_size_z, voxel_size_y, voxel_size_x]),\n",
    "                                                            target_voxelsize=target_voxel_size,\n",
    "                                                            n_smoothing_iterations=n_smoothing_iterations,\n",
    "                                                            n_points=n_points_first_guess,\n",
    "                                                            n_tracing_iterations=n_tracing_iterations,\n",
    "                                                            resampling_length=resampling_length,\n",
    "                                                            fit_type=fit_type,\n",
    "                                                            edge_type=edge_type,\n",
    "                                                            trace_length=trace_length,\n",
    "                                                            sampling_distance=trace_sampling_distance\n",
    "                                                            )"
   ]
  },
  {
   "cell_type": "code",
   "execution_count": null,
   "id": "0dbe3a56-c592-42da-a536-d3237638c4d8",
   "metadata": {},
   "outputs": [],
   "source": [
    "for res in results_reconstruction:\n",
    "    print(res[1]['name'])\n",
    "    if res[2] == 'image':\n",
    "        viewer.add_image(res[0], **res[1])\n",
    "    elif res[2] == 'points':\n",
    "        viewer.add_points(res[0], **res[1])\n",
    "    elif res[2] == 'vectors':\n",
    "        viewer.add_vectors(res[0], **res[1])\n",
    "refined_points = results_reconstruction[3]"
   ]
  },
  {
   "cell_type": "markdown",
   "id": "f6d95ddb-7487-4ff2-bbb9-31d4ce4a3ba4",
   "metadata": {},
   "source": [
    "We need the refined points to continue:"
   ]
  },
  {
   "cell_type": "code",
   "execution_count": null,
   "id": "561cc659-dc22-4a56-9dca-cd738e7506f5",
   "metadata": {},
   "outputs": [],
   "source": [
    "results_stress_analysis = measurements.comprehensive_analysis(refined_points[0],\n",
    "                                                              max_degree=max_degree,\n",
    "                                                              n_quadrature_points=n_quadrature_points,\n",
    "                                                              gamma=gamma)\n",
    "for res in results_stress_analysis:\n",
    "    print(res[1]['name'])\n",
    "    if res[2] == 'points':\n",
    "        viewer.add_points(res[0], **res[1])\n",
    "    if res[2] == 'vectors':\n",
    "        viewer.add_vectors(res[0], **res[1])"
   ]
  },
  {
   "cell_type": "markdown",
   "id": "049dc833-06b8-41e5-bff5-45dec0673f07",
   "metadata": {},
   "source": [
    "Reconstruct the surface:"
   ]
  },
  {
   "cell_type": "code",
   "execution_count": null,
   "id": "ff534c0b-c08b-4829-8cf1-ede015b9c97b",
   "metadata": {},
   "outputs": [],
   "source": []
  }
 ],
 "metadata": {
  "kernelspec": {
   "display_name": "Python 3 (ipykernel)",
   "language": "python",
   "name": "python3"
  },
  "language_info": {
   "codemirror_mode": {
    "name": "ipython",
    "version": 3
   },
   "file_extension": ".py",
   "mimetype": "text/x-python",
   "name": "python",
   "nbconvert_exporter": "python",
   "pygments_lexer": "ipython3",
   "version": "3.9.13"
  }
 },
 "nbformat": 4,
 "nbformat_minor": 5
}
