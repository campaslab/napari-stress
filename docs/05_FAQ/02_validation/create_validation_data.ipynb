{
 "cells": [
  {
   "cell_type": "code",
   "execution_count": 2,
   "metadata": {},
   "outputs": [
    {
     "name": "stderr",
     "output_type": "stream",
     "text": [
      "napari.manifest -> 'napari' could not be imported: Could not find file 'builtins.yaml' in module 'napari'\n"
     ]
    }
   ],
   "source": [
    "import vedo\n",
    "import os\n",
    "import numpy as np\n",
    "import napari\n",
    "from skimage import filters, io\n",
    "\n",
    "from napari_stress import reconstruction, measurements, sample_data\n",
    "import pandas as pd\n",
    "import matplotlib.pyplot as plt\n",
    "import matplotlib as mpl"
   ]
  },
  {
   "cell_type": "code",
   "execution_count": 3,
   "metadata": {},
   "outputs": [
    {
     "name": "stderr",
     "output_type": "stream",
     "text": [
      "napari.manifest -> 'napari' could not be imported: Could not find file 'builtins.yaml' in module 'napari'\n"
     ]
    }
   ],
   "source": [
    "viewer = napari.Viewer()"
   ]
  },
  {
   "attachments": {},
   "cell_type": "markdown",
   "metadata": {},
   "source": [
    "Make folders:"
   ]
  },
  {
   "cell_type": "code",
   "execution_count": 4,
   "metadata": {},
   "outputs": [],
   "source": [
    "os.makedirs('./results_sphere', exist_ok=True)\n",
    "os.makedirs('./results_ellipsoid', exist_ok=True)\n",
    "\n",
    "for path in ['./results_sphere', './results_ellipsoid']:\n",
    "    os.makedirs(os.path.join(path, 'napari_stress_analysis_and_napari_stress_pointcloud'), exist_ok=True)\n",
    "    os.makedirs(os.path.join(path, 'napari_stress_analysis_and_stress_pointcloud'), exist_ok=True)\n",
    "    os.makedirs(os.path.join(path, 'stress_analysis_and_stress_pointcloud'), exist_ok=True)"
   ]
  },
  {
   "attachments": {},
   "cell_type": "markdown",
   "metadata": {},
   "source": [
    "## Create synthetic data\n",
    "\n",
    "Create sphere with padded border"
   ]
  },
  {
   "cell_type": "code",
   "execution_count": 5,
   "metadata": {},
   "outputs": [],
   "source": [
    "#  for blurring\n",
    "sigma = 5"
   ]
  },
  {
   "cell_type": "code",
   "execution_count": 6,
   "metadata": {},
   "outputs": [],
   "source": [
    "radius = 5\n",
    "padding = 15\n",
    "sphere = sample_data.make_binary_ellipsoid(major_axis_length=radius, medial_axis_length=radius, minor_axis_length=radius, edge_padding=padding, sampling=0.25)[0]\n",
    "sphere = filters.gaussian(sphere, sigma=sigma)"
   ]
  },
  {
   "attachments": {},
   "cell_type": "markdown",
   "metadata": {},
   "source": [
    "Repeat for ellipsoid:"
   ]
  },
  {
   "cell_type": "code",
   "execution_count": 7,
   "metadata": {},
   "outputs": [],
   "source": [
    "radius_major = 10\n",
    "radius_minor = 7.5\n",
    "ellipsoid = sample_data.make_binary_ellipsoid(major_axis_length=radius_major, medial_axis_length=radius_minor, minor_axis_length=radius_minor, edge_padding=padding, sampling=0.25)[0]"
   ]
  },
  {
   "attachments": {},
   "cell_type": "markdown",
   "metadata": {},
   "source": [
    "## Analyze with napari-stress\n",
    "\n",
    "### Sphere"
   ]
  },
  {
   "cell_type": "code",
   "execution_count": 8,
   "metadata": {},
   "outputs": [],
   "source": [
    "dest = os.path.join('./results_sphere/napari_stress_analysis_and_napari_stress_pointcloud/')"
   ]
  },
  {
   "attachments": {},
   "cell_type": "markdown",
   "metadata": {},
   "source": [
    "Sphere:"
   ]
  },
  {
   "cell_type": "code",
   "execution_count": 9,
   "metadata": {},
   "outputs": [
    {
     "name": "stdout",
     "output_type": "stream",
     "text": [
      "Jupyter environment detected. Enabling Open3D WebVisualizer.\n",
      "[Open3D INFO] WebRTC GUI backend enabled.\n",
      "[Open3D INFO] WebRTCWindowSystem: HTTP handshake server disabled.\n"
     ]
    }
   ],
   "source": [
    "results_reconstruction = reconstruction.reconstruct_droplet(sphere,\n",
    "                                                            voxelsize=np.asarray([1, 1, 1]),\n",
    "                                                            target_voxelsize=1,\n",
    "                                                            n_smoothing_iterations=15,\n",
    "                                                            n_points=256,\n",
    "                                                            n_tracing_iterations=3,\n",
    "                                                            resampling_length=1,\n",
    "                                                            fit_type='fancy',\n",
    "                                                            edge_type='interior',\n",
    "                                                            trace_length=20,\n",
    "                                                            sampling_distance=1,\n",
    "                                                            remove_outliers=False,\n",
    "                                                            verbose=False,\n",
    "                                                            use_dask=False\n",
    "                                                            )\n",
    "\n",
    "refined_points = results_reconstruction[3][0]\n",
    "results_stress_analysis_sphere = measurements.comprehensive_analysis(refined_points,\n",
    "                                                              max_degree=20,\n",
    "                                                              n_quadrature_points=590,\n",
    "                                                              gamma=5,\n",
    "                                                              verbose=False,\n",
    "                                                              use_dask=False)\n",
    "\n",
    "for res in results_reconstruction + results_stress_analysis_sphere:\n",
    "    if res[2] == 'points':\n",
    "        viewer.add_points(res[0], **res[1])\n",
    "    if res[2] == 'vectors':\n",
    "        viewer.add_vectors(res[0], **res[1])\n"
   ]
  },
  {
   "cell_type": "code",
   "execution_count": 10,
   "metadata": {},
   "outputs": [],
   "source": [
    "np.savetxt(os.path.join(dest, 'mean_curvatures.csv'), viewer.layers['Result of lebedev quadrature (droplet)'].features['mean_curvature'])\n",
    "np.savetxt(os.path.join(dest, 'total_stress.csv'), viewer.layers['Result of lebedev quadrature (droplet)'].features['anisotropic_stress'])\n",
    "np.savetxt(os.path.join(dest, 'lebedev_points.csv'), viewer.layers['Result of lebedev quadrature (droplet)'].data)\n",
    "np.savetxt(os.path.join(dest, 'expanded_points.csv'), viewer.layers['Result of fit spherical harmonics (deg = 20'].data)\n",
    "np.savetxt(os.path.join(dest, 'pointcloud.csv'), refined_points)"
   ]
  },
  {
   "cell_type": "code",
   "execution_count": 11,
   "metadata": {},
   "outputs": [],
   "source": [
    "viewer.close_all()\n",
    "viewer = napari.Viewer(ndisplay=3)"
   ]
  },
  {
   "attachments": {},
   "cell_type": "markdown",
   "metadata": {},
   "source": [
    "### Ellipsoid:"
   ]
  },
  {
   "cell_type": "code",
   "execution_count": 12,
   "metadata": {},
   "outputs": [],
   "source": [
    "dest = os.path.join('./results_ellipsoid/napari_stress_analysis_and_napari_stress_pointcloud/')"
   ]
  },
  {
   "cell_type": "code",
   "execution_count": 13,
   "metadata": {},
   "outputs": [],
   "source": [
    "results_reconstruction = reconstruction.reconstruct_droplet(ellipsoid,\n",
    "                                                            voxelsize=np.asarray([1, 1, 1]),\n",
    "                                                            target_voxelsize=1,\n",
    "                                                            n_smoothing_iterations=15,\n",
    "                                                            n_points=256,\n",
    "                                                            n_tracing_iterations=3,\n",
    "                                                            resampling_length=1,\n",
    "                                                            fit_type='fancy',\n",
    "                                                            edge_type='interior',\n",
    "                                                            trace_length=20,\n",
    "                                                            sampling_distance=1,\n",
    "                                                            remove_outliers=True,\n",
    "                                                            verbose=False,\n",
    "                                                            use_dask=False\n",
    "                                                            )\n",
    "\n",
    "refined_points = results_reconstruction[3][0]\n",
    "results_stress_analysis_ellipsoid = measurements.comprehensive_analysis(refined_points,\n",
    "                                                              max_degree=20,\n",
    "                                                              n_quadrature_points=590,\n",
    "                                                              gamma=5,\n",
    "                                                              verbose=False,\n",
    "                                                              use_dask=False)\n",
    "\n",
    "\n",
    "for res in results_reconstruction + results_stress_analysis_ellipsoid:\n",
    "    if res[2] == 'points':\n",
    "        viewer.add_points(res[0], **res[1])\n",
    "    if res[2] == 'vectors':\n",
    "        viewer.add_vectors(res[0], **res[1])\n"
   ]
  },
  {
   "cell_type": "code",
   "execution_count": 14,
   "metadata": {},
   "outputs": [],
   "source": [
    "np.savetxt(os.path.join(dest, 'mean_curvatures.csv'), viewer.layers['Result of lebedev quadrature (droplet)'].features['mean_curvature'])\n",
    "np.savetxt(os.path.join(dest, 'total_stress.csv'), viewer.layers['Result of lebedev quadrature (droplet)'].features['anisotropic_stress'])\n",
    "np.savetxt(os.path.join(dest, 'lebedev_points.csv'), viewer.layers['Result of lebedev quadrature (droplet)'].data)\n",
    "np.savetxt(os.path.join(dest, 'expanded_points.csv'), viewer.layers['Result of fit spherical harmonics (deg = 20'].data)\n",
    "np.savetxt(os.path.join(dest, 'pointcloud.csv'), refined_points)"
   ]
  },
  {
   "cell_type": "code",
   "execution_count": null,
   "metadata": {},
   "outputs": [],
   "source": []
  }
 ],
 "metadata": {
  "kernelspec": {
   "display_name": "stress",
   "language": "python",
   "name": "python3"
  },
  "language_info": {
   "codemirror_mode": {
    "name": "ipython",
    "version": 3
   },
   "file_extension": ".py",
   "mimetype": "text/x-python",
   "name": "python",
   "nbconvert_exporter": "python",
   "pygments_lexer": "ipython3",
   "version": "3.9.12"
  },
  "orig_nbformat": 4,
  "vscode": {
   "interpreter": {
    "hash": "719d8a1e73db27c4d6be3e0d92076fec18ba9f394aef23fbdd8ec7a829ca2569"
   }
  }
 },
 "nbformat": 4,
 "nbformat_minor": 2
}
