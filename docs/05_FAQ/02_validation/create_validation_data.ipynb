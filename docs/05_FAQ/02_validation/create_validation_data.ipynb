{
 "cells": [
  {
   "cell_type": "code",
   "execution_count": 70,
   "metadata": {},
   "outputs": [],
   "source": [
    "import vedo\n",
    "import os\n",
    "import numpy as np\n",
    "import napari\n",
    "from skimage import filters, io\n",
    "\n",
    "from napari_stress import reconstruction, measurements\n",
    "import pandas as pd\n",
    "import matplotlib.pyplot as plt\n",
    "import matplotlib as mpl\n",
    "import copy"
   ]
  },
  {
   "cell_type": "code",
   "execution_count": null,
   "metadata": {},
   "outputs": [],
   "source": []
  },
  {
   "cell_type": "code",
   "execution_count": 2,
   "metadata": {},
   "outputs": [],
   "source": [
    "viewer = napari.Viewer()"
   ]
  },
  {
   "attachments": {},
   "cell_type": "markdown",
   "metadata": {},
   "source": [
    "Make folders:"
   ]
  },
  {
   "cell_type": "code",
   "execution_count": 33,
   "metadata": {},
   "outputs": [],
   "source": [
    "os.makedirs('./results_sphere', exist_ok=True)\n",
    "os.makedirs('./results_ellipsoid', exist_ok=True)\n",
    "\n",
    "for path in ['./results_sphere', './results_ellipsoid']:\n",
    "    os.makedirs(os.path.join(path, 'napari_stress_analysis_and_napari_stress_pointcloud'), exist_ok=True)\n",
    "    os.makedirs(os.path.join(path, 'napari_stress_analysis_and_stress_pointcloud'), exist_ok=True)\n",
    "    os.makedirs(os.path.join(path, 'stress_analysis_and_stress_pointcloud'), exist_ok=True)"
   ]
  },
  {
   "attachments": {},
   "cell_type": "markdown",
   "metadata": {},
   "source": [
    "## Create synthetic data\n",
    "\n",
    "Create sphere with padded border"
   ]
  },
  {
   "cell_type": "code",
   "execution_count": 3,
   "metadata": {},
   "outputs": [],
   "source": [
    "radius = 5\n",
    "padding = 15\n",
    "sigma = 5"
   ]
  },
  {
   "cell_type": "code",
   "execution_count": 10,
   "metadata": {},
   "outputs": [],
   "source": [
    "sphere = vedo.Sphere(r=radius).binarize(spacing=(0.25, 0.25, 0.25)).tonumpy()\n",
    "sphere = np.pad(sphere, padding)\n",
    "sphere = filters.gaussian(sphere, sigma=sigma)  # blur"
   ]
  },
  {
   "cell_type": "code",
   "execution_count": 11,
   "metadata": {},
   "outputs": [],
   "source": [
    "io.imsave(os.path.join('.', 'results_sphere', f'synthetic_sphere_radius_{radius}_padding_{padding}_sigma_{sigma}.tif'), sphere)"
   ]
  },
  {
   "attachments": {},
   "cell_type": "markdown",
   "metadata": {},
   "source": [
    "Repeat for ellipsoid:"
   ]
  },
  {
   "cell_type": "code",
   "execution_count": 24,
   "metadata": {},
   "outputs": [],
   "source": [
    "radius_major = 10\n",
    "radius_minor = 7.5\n",
    "ellipsoid = vedo.Ellipsoid(\n",
    "    axis1=(radius_major, 0,0), axis2=(0, radius_minor, 0), axis3=(0, 0, radius_minor)\n",
    "    ).binarize(spacing=(0.25, 0.25, 0.25)).tonumpy()\n",
    "\n",
    "ellipsoid = np.pad(ellipsoid, padding)\n",
    "ellipsoid = filters.gaussian(ellipsoid, sigma=sigma)  # blur"
   ]
  },
  {
   "cell_type": "code",
   "execution_count": 25,
   "metadata": {},
   "outputs": [],
   "source": [
    "io.imsave(os.path.join('.', 'results_ellipsoid', f'synthetic_ellipsoid_radius_major_{radius_major}_radius_minor_{radius_minor}_padding_{padding}_sigma_{sigma}.tif'), ellipsoid)"
   ]
  },
  {
   "cell_type": "code",
   "execution_count": 26,
   "metadata": {},
   "outputs": [
    {
     "data": {
      "text/plain": [
       "<Image layer 'sphere' at 0x20b0e750040>"
      ]
     },
     "execution_count": 26,
     "metadata": {},
     "output_type": "execute_result"
    }
   ],
   "source": [
    "viewer.add_image(sphere)"
   ]
  },
  {
   "attachments": {},
   "cell_type": "markdown",
   "metadata": {},
   "source": [
    "## Analyze with napari-stress\n",
    "\n",
    "### Sphere"
   ]
  },
  {
   "cell_type": "code",
   "execution_count": 19,
   "metadata": {},
   "outputs": [],
   "source": [
    "dest = os.path.join('./results_sphere/napari_stress_analysis_and_napari_stress_pointcloud/')"
   ]
  },
  {
   "attachments": {},
   "cell_type": "markdown",
   "metadata": {},
   "source": [
    "Sphere:"
   ]
  },
  {
   "cell_type": "code",
   "execution_count": null,
   "metadata": {},
   "outputs": [],
   "source": [
    "results_reconstruction = reconstruction.reconstruct_droplet(sphere,\n",
    "                                                            voxelsize=np.asarray([1, 1, 1]),\n",
    "                                                            target_voxelsize=1,\n",
    "                                                            n_smoothing_iterations=15,\n",
    "                                                            n_points=256,\n",
    "                                                            n_tracing_iterations=3,\n",
    "                                                            resampling_length=1,\n",
    "                                                            fit_type='fancy',\n",
    "                                                            edge_type='interior',\n",
    "                                                            trace_length=20,\n",
    "                                                            sampling_distance=1,\n",
    "                                                            remove_outliers=False,\n",
    "                                                            verbose=False,\n",
    "                                                            use_dask=False\n",
    "                                                            )\n",
    "\n",
    "refined_points = results_reconstruction[3][0]\n",
    "results_stress_analysis_sphere = measurements.comprehensive_analysis(refined_points,\n",
    "                                                              max_degree=20,\n",
    "                                                              n_quadrature_points=590,\n",
    "                                                              gamma=5,\n",
    "                                                              verbose=False,\n",
    "                                                              use_dask=False)\n",
    "\n",
    "for res in results_reconstruction + results_stress_analysis_sphere:\n",
    "    if res[2] == 'points':\n",
    "        viewer.add_points(res[0], **res[1])\n",
    "    if res[2] == 'vectors':\n",
    "        viewer.add_vectors(res[0], **res[1])\n"
   ]
  },
  {
   "cell_type": "code",
   "execution_count": 20,
   "metadata": {},
   "outputs": [],
   "source": [
    "np.savetxt(os.path.join(dest, 'mean_curvatures.csv'), viewer.layers['Result of lebedev quadrature (droplet)'].features['mean_curvature'])\n",
    "np.savetxt(os.path.join(dest, 'total_stress.csv'), viewer.layers['Result of lebedev quadrature (droplet)'].features['anisotropic_stress'])\n",
    "np.savetxt(os.path.join(dest, 'lebedev_points.csv'), viewer.layers['Result of lebedev quadrature (droplet)'].data)\n",
    "np.savetxt(os.path.join(dest, 'expanded_points.csv'), viewer.layers['Result of fit spherical harmonics (deg = 20'].data)\n",
    "np.savetxt(os.path.join(dest, 'pointcloud.csv'), refined_points)"
   ]
  },
  {
   "cell_type": "code",
   "execution_count": 29,
   "metadata": {},
   "outputs": [],
   "source": [
    "viewer.close_all()\n",
    "viewer = napari.Viewer(ndisplay=3)"
   ]
  },
  {
   "attachments": {},
   "cell_type": "markdown",
   "metadata": {},
   "source": [
    "### Ellipsoid:"
   ]
  },
  {
   "cell_type": "code",
   "execution_count": 27,
   "metadata": {},
   "outputs": [],
   "source": [
    "dest = os.path.join('./results_ellipsoid/napari_stress_analysis_and_napari_stress_pointcloud/')"
   ]
  },
  {
   "cell_type": "code",
   "execution_count": 28,
   "metadata": {},
   "outputs": [],
   "source": [
    "results_reconstruction = reconstruction.reconstruct_droplet(ellipsoid,\n",
    "                                                            voxelsize=np.asarray([1, 1, 1]),\n",
    "                                                            target_voxelsize=1,\n",
    "                                                            n_smoothing_iterations=15,\n",
    "                                                            n_points=256,\n",
    "                                                            n_tracing_iterations=3,\n",
    "                                                            resampling_length=1,\n",
    "                                                            fit_type='fancy',\n",
    "                                                            edge_type='interior',\n",
    "                                                            trace_length=20,\n",
    "                                                            sampling_distance=1,\n",
    "                                                            remove_outliers=False,\n",
    "                                                            verbose=False,\n",
    "                                                            use_dask=False\n",
    "                                                            )\n",
    "\n",
    "refined_points = results_reconstruction[3][0]\n",
    "results_stress_analysis_ellipsoid = measurements.comprehensive_analysis(refined_points,\n",
    "                                                              max_degree=20,\n",
    "                                                              n_quadrature_points=590,\n",
    "                                                              gamma=5,\n",
    "                                                              verbose=False,\n",
    "                                                              use_dask=False)\n",
    "\n",
    "\n",
    "for res in results_reconstruction + results_stress_analysis_ellipsoid:\n",
    "    if res[2] == 'points':\n",
    "        viewer.add_points(res[0], **res[1])\n",
    "    if res[2] == 'vectors':\n",
    "        viewer.add_vectors(res[0], **res[1])\n"
   ]
  },
  {
   "cell_type": "code",
   "execution_count": 31,
   "metadata": {},
   "outputs": [],
   "source": [
    "np.savetxt(os.path.join(dest, 'mean_curvatures.csv'), viewer.layers['Result of lebedev quadrature (droplet)'].features['mean_curvature'])\n",
    "np.savetxt(os.path.join(dest, 'total_stress.csv'), viewer.layers['Result of lebedev quadrature (droplet)'].features['anisotropic_stress'])\n",
    "np.savetxt(os.path.join(dest, 'lebedev_points.csv'), viewer.layers['Result of lebedev quadrature (droplet)'].data)\n",
    "np.savetxt(os.path.join(dest, 'expanded_points.csv'), viewer.layers['Result of fit spherical harmonics (deg = 20'].data)\n",
    "np.savetxt(os.path.join(dest, 'pointcloud.csv'), refined_points)"
   ]
  }
 ],
 "metadata": {
  "kernelspec": {
   "display_name": "stress",
   "language": "python",
   "name": "python3"
  },
  "language_info": {
   "codemirror_mode": {
    "name": "ipython",
    "version": 3
   },
   "file_extension": ".py",
   "mimetype": "text/x-python",
   "name": "python",
   "nbconvert_exporter": "python",
   "pygments_lexer": "ipython3",
   "version": "3.9.13"
  },
  "orig_nbformat": 4,
  "vscode": {
   "interpreter": {
    "hash": "e94545d40d04f852d50c4a3e54178cb617d42c4dde55aeec8654f84a500b04b2"
   }
  }
 },
 "nbformat": 4,
 "nbformat_minor": 2
}
