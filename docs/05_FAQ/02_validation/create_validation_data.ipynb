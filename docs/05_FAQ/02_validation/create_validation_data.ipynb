{
 "cells": [
  {
   "cell_type": "code",
   "execution_count": 1,
   "metadata": {},
   "outputs": [
    {
     "name": "stderr",
     "output_type": "stream",
     "text": [
      "napari.manifest -> 'napari' could not be imported: Could not find file 'builtins.yaml' in module 'napari'\n"
     ]
    }
   ],
   "source": [
    "import vedo\n",
    "import os\n",
    "import numpy as np\n",
    "import napari\n",
    "from skimage import filters, io\n",
    "\n",
    "from napari_stress import reconstruction, measurements, sample_data\n",
    "import pandas as pd\n",
    "import matplotlib.pyplot as plt\n",
    "import matplotlib as mpl"
   ]
  },
  {
   "cell_type": "code",
   "execution_count": 2,
   "metadata": {},
   "outputs": [
    {
     "name": "stderr",
     "output_type": "stream",
     "text": [
      "napari.manifest -> 'napari' could not be imported: Could not find file 'builtins.yaml' in module 'napari'\n"
     ]
    }
   ],
   "source": [
    "viewer = napari.Viewer()"
   ]
  },
  {
   "attachments": {},
   "cell_type": "markdown",
   "metadata": {},
   "source": [
    "Make folders:"
   ]
  },
  {
   "cell_type": "code",
   "execution_count": 3,
   "metadata": {},
   "outputs": [],
   "source": [
    "os.makedirs('./results_sphere', exist_ok=True)\n",
    "os.makedirs('./results_ellipsoid', exist_ok=True)\n",
    "\n",
    "for path in ['./results_sphere', './results_ellipsoid']:\n",
    "    os.makedirs(os.path.join(path, 'napari_stress_analysis_and_napari_stress_pointcloud'), exist_ok=True)\n",
    "    os.makedirs(os.path.join(path, 'napari_stress_analysis_and_stress_pointcloud'), exist_ok=True)\n",
    "    os.makedirs(os.path.join(path, 'stress_analysis_and_stress_pointcloud'), exist_ok=True)"
   ]
  },
  {
   "attachments": {},
   "cell_type": "markdown",
   "metadata": {},
   "source": [
    "## Create synthetic data\n",
    "\n",
    "Create sphere with padded border"
   ]
  },
  {
   "cell_type": "code",
   "execution_count": 6,
   "metadata": {},
   "outputs": [],
   "source": [
    "#  for blurring\n",
    "sigma = 5"
   ]
  },
  {
   "cell_type": "code",
   "execution_count": 7,
   "metadata": {},
   "outputs": [],
   "source": [
    "radius = 5\n",
    "padding = 15\n",
    "sphere = sample_data.make_binary_ellipsoid(major_axis_length=radius, medial_axis_length=radius, minor_axis_length=radius, edge_padding=padding, sampling=0.25)[0]\n",
    "sphere = filters.gaussian(sphere, sigma=sigma)"
   ]
  },
  {
   "attachments": {},
   "cell_type": "markdown",
   "metadata": {},
   "source": [
    "Repeat for ellipsoid:"
   ]
  },
  {
   "cell_type": "code",
   "execution_count": 8,
   "metadata": {},
   "outputs": [],
   "source": [
    "radius_major = 10\n",
    "radius_minor = 7.5\n",
    "ellipsoid = sample_data.make_binary_ellipsoid(major_axis_length=radius_major, medial_axis_length=radius_minor, minor_axis_length=radius_minor, edge_padding=padding, sampling=0.25)[0]"
   ]
  },
  {
   "attachments": {},
   "cell_type": "markdown",
   "metadata": {},
   "source": [
    "## Analyze with napari-stress\n",
    "\n",
    "### Sphere"
   ]
  },
  {
   "cell_type": "code",
   "execution_count": 9,
   "metadata": {},
   "outputs": [],
   "source": [
    "dest = os.path.join('./results_sphere/napari_stress_analysis_and_napari_stress_pointcloud/')"
   ]
  },
  {
   "attachments": {},
   "cell_type": "markdown",
   "metadata": {},
   "source": [
    "Sphere:"
   ]
  },
  {
   "cell_type": "code",
   "execution_count": 10,
   "metadata": {},
   "outputs": [
    {
     "name": "stdout",
     "output_type": "stream",
     "text": [
      "Jupyter environment detected. Enabling Open3D WebVisualizer.\n",
      "[Open3D INFO] WebRTC GUI backend enabled.\n",
      "[Open3D INFO] WebRTCWindowSystem: HTTP handshake server disabled.\n"
     ]
    }
   ],
   "source": [
    "results_reconstruction = reconstruction.reconstruct_droplet(sphere,\n",
    "                                                            voxelsize=np.asarray([1, 1, 1]),\n",
    "                                                            target_voxelsize=1,\n",
    "                                                            n_smoothing_iterations=15,\n",
    "                                                            n_points=256,\n",
    "                                                            n_tracing_iterations=3,\n",
    "                                                            resampling_length=1,\n",
    "                                                            fit_type='fancy',\n",
    "                                                            edge_type='interior',\n",
    "                                                            trace_length=20,\n",
    "                                                            sampling_distance=1,\n",
    "                                                            remove_outliers=False,\n",
    "                                                            verbose=False,\n",
    "                                                            use_dask=False\n",
    "                                                            )\n",
    "\n",
    "refined_points = results_reconstruction[3][0]\n",
    "results_stress_analysis_sphere = measurements.comprehensive_analysis(refined_points,\n",
    "                                                              max_degree=20,\n",
    "                                                              n_quadrature_points=590,\n",
    "                                                              gamma=5,\n",
    "                                                              verbose=False,\n",
    "                                                              use_dask=False)\n",
    "\n",
    "for res in results_reconstruction + results_stress_analysis_sphere:\n",
    "    if res[2] == 'points':\n",
    "        viewer.add_points(res[0], **res[1])\n",
    "    if res[2] == 'vectors':\n",
    "        viewer.add_vectors(res[0], **res[1])\n"
   ]
  },
  {
   "cell_type": "code",
   "execution_count": 11,
   "metadata": {},
   "outputs": [],
   "source": [
    "np.savetxt(os.path.join(dest, 'mean_curvatures.csv'), viewer.layers['Result of lebedev quadrature (droplet)'].features['mean_curvature'])\n",
    "np.savetxt(os.path.join(dest, 'total_stress.csv'), viewer.layers['Result of lebedev quadrature (droplet)'].features['anisotropic_stress'])\n",
    "np.savetxt(os.path.join(dest, 'lebedev_points.csv'), viewer.layers['Result of lebedev quadrature (droplet)'].data)\n",
    "np.savetxt(os.path.join(dest, 'expanded_points.csv'), viewer.layers['Result of fit spherical harmonics (deg = 20'].data)\n",
    "np.savetxt(os.path.join(dest, 'pointcloud.csv'), refined_points)"
   ]
  },
  {
   "cell_type": "code",
   "execution_count": 12,
   "metadata": {},
   "outputs": [],
   "source": [
    "viewer.close_all()\n",
    "viewer = napari.Viewer(ndisplay=3)"
   ]
  },
  {
   "attachments": {},
   "cell_type": "markdown",
   "metadata": {},
   "source": [
    "### Ellipsoid:"
   ]
  },
  {
   "cell_type": "code",
   "execution_count": 13,
   "metadata": {},
   "outputs": [],
   "source": [
    "dest = os.path.join('./results_ellipsoid/napari_stress_analysis_and_napari_stress_pointcloud/')"
   ]
  },
  {
   "cell_type": "code",
   "execution_count": 17,
   "metadata": {},
   "outputs": [
    {
     "ename": "ValueError",
     "evalue": "Item wrong length 3303 instead of 3304.",
     "output_type": "error",
     "traceback": [
      "\u001b[1;31m---------------------------------------------------------------------------\u001b[0m",
      "\u001b[1;31mValueError\u001b[0m                                Traceback (most recent call last)",
      "\u001b[1;32m~\\AppData\\Local\\Temp\\ipykernel_17252\\3503994062.py\u001b[0m in \u001b[0;36m<cell line: 1>\u001b[1;34m()\u001b[0m\n\u001b[1;32m----> 1\u001b[1;33m results_reconstruction = reconstruction.reconstruct_droplet(ellipsoid,\n\u001b[0m\u001b[0;32m      2\u001b[0m                                                             \u001b[0mvoxelsize\u001b[0m\u001b[1;33m=\u001b[0m\u001b[0mnp\u001b[0m\u001b[1;33m.\u001b[0m\u001b[0masarray\u001b[0m\u001b[1;33m(\u001b[0m\u001b[1;33m[\u001b[0m\u001b[1;36m1\u001b[0m\u001b[1;33m,\u001b[0m \u001b[1;36m1\u001b[0m\u001b[1;33m,\u001b[0m \u001b[1;36m1\u001b[0m\u001b[1;33m]\u001b[0m\u001b[1;33m)\u001b[0m\u001b[1;33m,\u001b[0m\u001b[1;33m\u001b[0m\u001b[1;33m\u001b[0m\u001b[0m\n\u001b[0;32m      3\u001b[0m                                                             \u001b[0mtarget_voxelsize\u001b[0m\u001b[1;33m=\u001b[0m\u001b[1;36m1\u001b[0m\u001b[1;33m,\u001b[0m\u001b[1;33m\u001b[0m\u001b[1;33m\u001b[0m\u001b[0m\n\u001b[0;32m      4\u001b[0m                                                             \u001b[0mn_smoothing_iterations\u001b[0m\u001b[1;33m=\u001b[0m\u001b[1;36m15\u001b[0m\u001b[1;33m,\u001b[0m\u001b[1;33m\u001b[0m\u001b[1;33m\u001b[0m\u001b[0m\n\u001b[0;32m      5\u001b[0m                                                             \u001b[0mn_points\u001b[0m\u001b[1;33m=\u001b[0m\u001b[1;36m256\u001b[0m\u001b[1;33m,\u001b[0m\u001b[1;33m\u001b[0m\u001b[1;33m\u001b[0m\u001b[0m\n",
      "\u001b[1;32mE:\\BiAPoL\\Projects\\napari-stress\\src\\napari_stress\\_utils\\frame_by_frame.py\u001b[0m in \u001b[0;36mwrapper\u001b[1;34m(*args, **kwargs)\u001b[0m\n\u001b[0;32m     65\u001b[0m                 \u001b[0mjobs\u001b[0m\u001b[1;33m.\u001b[0m\u001b[0mappend\u001b[0m\u001b[1;33m(\u001b[0m\u001b[0mclient\u001b[0m\u001b[1;33m.\u001b[0m\u001b[0msubmit\u001b[0m\u001b[1;33m(\u001b[0m\u001b[0mfunction\u001b[0m\u001b[1;33m,\u001b[0m \u001b[1;33m*\u001b[0m\u001b[0m_args\u001b[0m\u001b[1;33m,\u001b[0m \u001b[1;33m**\u001b[0m\u001b[0mkwargs\u001b[0m\u001b[1;33m)\u001b[0m\u001b[1;33m)\u001b[0m\u001b[1;33m\u001b[0m\u001b[1;33m\u001b[0m\u001b[0m\n\u001b[0;32m     66\u001b[0m             \u001b[1;32melse\u001b[0m\u001b[1;33m:\u001b[0m\u001b[1;33m\u001b[0m\u001b[1;33m\u001b[0m\u001b[0m\n\u001b[1;32m---> 67\u001b[1;33m                 \u001b[0mresults\u001b[0m\u001b[1;33m[\u001b[0m\u001b[0mt\u001b[0m\u001b[1;33m]\u001b[0m \u001b[1;33m=\u001b[0m \u001b[0mfunction\u001b[0m\u001b[1;33m(\u001b[0m\u001b[1;33m*\u001b[0m\u001b[0m_args\u001b[0m\u001b[1;33m,\u001b[0m \u001b[1;33m**\u001b[0m\u001b[0mkwargs\u001b[0m\u001b[1;33m)\u001b[0m\u001b[1;33m\u001b[0m\u001b[1;33m\u001b[0m\u001b[0m\n\u001b[0m\u001b[0;32m     68\u001b[0m \u001b[1;33m\u001b[0m\u001b[0m\n\u001b[0;32m     69\u001b[0m         \u001b[1;32mif\u001b[0m \u001b[0muse_dask\u001b[0m\u001b[1;33m:\u001b[0m\u001b[1;33m\u001b[0m\u001b[1;33m\u001b[0m\u001b[0m\n",
      "\u001b[1;32mE:\\BiAPoL\\Projects\\napari-stress\\src\\napari_stress\\_reconstruction\\toolbox.py\u001b[0m in \u001b[0;36mreconstruct_droplet\u001b[1;34m(image, voxelsize, target_voxelsize, smoothing_sigma, n_smoothing_iterations, n_points, n_tracing_iterations, resampling_length, fit_type, edge_type, trace_length, remove_outliers, outlier_tolerance, sampling_distance, verbose)\u001b[0m\n\u001b[0;32m    155\u001b[0m             points, sampling_length=resampling_length)\n\u001b[0;32m    156\u001b[0m \u001b[1;33m\u001b[0m\u001b[0m\n\u001b[1;32m--> 157\u001b[1;33m         traced_points, trace_vectors = reconstruction.trace_refinement_of_surface(\n\u001b[0m\u001b[0;32m    158\u001b[0m             \u001b[0mrescaled_image\u001b[0m\u001b[1;33m,\u001b[0m\u001b[1;33m\u001b[0m\u001b[1;33m\u001b[0m\u001b[0m\n\u001b[0;32m    159\u001b[0m             \u001b[0mresampled_points\u001b[0m\u001b[1;33m,\u001b[0m\u001b[1;33m\u001b[0m\u001b[1;33m\u001b[0m\u001b[0m\n",
      "\u001b[1;32mE:\\BiAPoL\\Projects\\napari-stress\\src\\napari_stress\\_utils\\frame_by_frame.py\u001b[0m in \u001b[0;36mwrapper\u001b[1;34m(*args, **kwargs)\u001b[0m\n\u001b[0;32m     65\u001b[0m                 \u001b[0mjobs\u001b[0m\u001b[1;33m.\u001b[0m\u001b[0mappend\u001b[0m\u001b[1;33m(\u001b[0m\u001b[0mclient\u001b[0m\u001b[1;33m.\u001b[0m\u001b[0msubmit\u001b[0m\u001b[1;33m(\u001b[0m\u001b[0mfunction\u001b[0m\u001b[1;33m,\u001b[0m \u001b[1;33m*\u001b[0m\u001b[0m_args\u001b[0m\u001b[1;33m,\u001b[0m \u001b[1;33m**\u001b[0m\u001b[0mkwargs\u001b[0m\u001b[1;33m)\u001b[0m\u001b[1;33m)\u001b[0m\u001b[1;33m\u001b[0m\u001b[1;33m\u001b[0m\u001b[0m\n\u001b[0;32m     66\u001b[0m             \u001b[1;32melse\u001b[0m\u001b[1;33m:\u001b[0m\u001b[1;33m\u001b[0m\u001b[1;33m\u001b[0m\u001b[0m\n\u001b[1;32m---> 67\u001b[1;33m                 \u001b[0mresults\u001b[0m\u001b[1;33m[\u001b[0m\u001b[0mt\u001b[0m\u001b[1;33m]\u001b[0m \u001b[1;33m=\u001b[0m \u001b[0mfunction\u001b[0m\u001b[1;33m(\u001b[0m\u001b[1;33m*\u001b[0m\u001b[0m_args\u001b[0m\u001b[1;33m,\u001b[0m \u001b[1;33m**\u001b[0m\u001b[0mkwargs\u001b[0m\u001b[1;33m)\u001b[0m\u001b[1;33m\u001b[0m\u001b[1;33m\u001b[0m\u001b[0m\n\u001b[0m\u001b[0;32m     68\u001b[0m \u001b[1;33m\u001b[0m\u001b[0m\n\u001b[0;32m     69\u001b[0m         \u001b[1;32mif\u001b[0m \u001b[0muse_dask\u001b[0m\u001b[1;33m:\u001b[0m\u001b[1;33m\u001b[0m\u001b[1;33m\u001b[0m\u001b[0m\n",
      "\u001b[1;32mE:\\BiAPoL\\Projects\\napari-stress\\src\\napari_stress\\_reconstruction\\refine_surfaces.py\u001b[0m in \u001b[0;36mtrace_refinement_of_surface\u001b[1;34m(intensity_image, points, selected_fit_type, selected_edge, trace_length, sampling_distance, scale_z, scale_y, scale_x, remove_outliers, outlier_tolerance, show_progress)\u001b[0m\n\u001b[0;32m    197\u001b[0m             factor=outlier_tolerance)\n\u001b[0;32m    198\u001b[0m         \u001b[0mfit_data\u001b[0m \u001b[1;33m=\u001b[0m \u001b[0mfit_data\u001b[0m\u001b[1;33m[\u001b[0m\u001b[0mgood_points\u001b[0m\u001b[1;33m]\u001b[0m\u001b[1;33m\u001b[0m\u001b[1;33m\u001b[0m\u001b[0m\n\u001b[1;32m--> 199\u001b[1;33m         \u001b[0mintensity_along_vector\u001b[0m \u001b[1;33m=\u001b[0m \u001b[0mintensity_along_vector\u001b[0m\u001b[1;33m[\u001b[0m\u001b[0mgood_points\u001b[0m\u001b[1;33m]\u001b[0m\u001b[1;33m\u001b[0m\u001b[1;33m\u001b[0m\u001b[0m\n\u001b[0m\u001b[0;32m    200\u001b[0m \u001b[1;33m\u001b[0m\u001b[0m\n\u001b[0;32m    201\u001b[0m     \u001b[1;31m# measure distance to nearest neighbor\u001b[0m\u001b[1;33m\u001b[0m\u001b[1;33m\u001b[0m\u001b[0m\n",
      "\u001b[1;32mc:\\Users\\johan\\Anaconda3\\envs\\stress\\lib\\site-packages\\pandas\\core\\frame.py\u001b[0m in \u001b[0;36m__getitem__\u001b[1;34m(self, key)\u001b[0m\n\u001b[0;32m   3494\u001b[0m         \u001b[1;31m# Do we have a (boolean) 1d indexer?\u001b[0m\u001b[1;33m\u001b[0m\u001b[1;33m\u001b[0m\u001b[0m\n\u001b[0;32m   3495\u001b[0m         \u001b[1;32mif\u001b[0m \u001b[0mcom\u001b[0m\u001b[1;33m.\u001b[0m\u001b[0mis_bool_indexer\u001b[0m\u001b[1;33m(\u001b[0m\u001b[0mkey\u001b[0m\u001b[1;33m)\u001b[0m\u001b[1;33m:\u001b[0m\u001b[1;33m\u001b[0m\u001b[1;33m\u001b[0m\u001b[0m\n\u001b[1;32m-> 3496\u001b[1;33m             \u001b[1;32mreturn\u001b[0m \u001b[0mself\u001b[0m\u001b[1;33m.\u001b[0m\u001b[0m_getitem_bool_array\u001b[0m\u001b[1;33m(\u001b[0m\u001b[0mkey\u001b[0m\u001b[1;33m)\u001b[0m\u001b[1;33m\u001b[0m\u001b[1;33m\u001b[0m\u001b[0m\n\u001b[0m\u001b[0;32m   3497\u001b[0m \u001b[1;33m\u001b[0m\u001b[0m\n\u001b[0;32m   3498\u001b[0m         \u001b[1;31m# We are left with two options: a single key, and a collection of keys,\u001b[0m\u001b[1;33m\u001b[0m\u001b[1;33m\u001b[0m\u001b[0m\n",
      "\u001b[1;32mc:\\Users\\johan\\Anaconda3\\envs\\stress\\lib\\site-packages\\pandas\\core\\frame.py\u001b[0m in \u001b[0;36m_getitem_bool_array\u001b[1;34m(self, key)\u001b[0m\n\u001b[0;32m   3541\u001b[0m             )\n\u001b[0;32m   3542\u001b[0m         \u001b[1;32melif\u001b[0m \u001b[0mlen\u001b[0m\u001b[1;33m(\u001b[0m\u001b[0mkey\u001b[0m\u001b[1;33m)\u001b[0m \u001b[1;33m!=\u001b[0m \u001b[0mlen\u001b[0m\u001b[1;33m(\u001b[0m\u001b[0mself\u001b[0m\u001b[1;33m.\u001b[0m\u001b[0mindex\u001b[0m\u001b[1;33m)\u001b[0m\u001b[1;33m:\u001b[0m\u001b[1;33m\u001b[0m\u001b[1;33m\u001b[0m\u001b[0m\n\u001b[1;32m-> 3543\u001b[1;33m             raise ValueError(\n\u001b[0m\u001b[0;32m   3544\u001b[0m                 \u001b[1;34mf\"Item wrong length {len(key)} instead of {len(self.index)}.\"\u001b[0m\u001b[1;33m\u001b[0m\u001b[1;33m\u001b[0m\u001b[0m\n\u001b[0;32m   3545\u001b[0m             )\n",
      "\u001b[1;31mValueError\u001b[0m: Item wrong length 3303 instead of 3304."
     ]
    }
   ],
   "source": [
    "results_reconstruction = reconstruction.reconstruct_droplet(ellipsoid,\n",
    "                                                            voxelsize=np.asarray([1, 1, 1]),\n",
    "                                                            target_voxelsize=1,\n",
    "                                                            n_smoothing_iterations=15,\n",
    "                                                            n_points=256,\n",
    "                                                            n_tracing_iterations=3,\n",
    "                                                            resampling_length=1,\n",
    "                                                            fit_type='fancy',\n",
    "                                                            edge_type='interior',\n",
    "                                                            trace_length=20,\n",
    "                                                            sampling_distance=1,\n",
    "                                                            remove_outliers=True,\n",
    "                                                            verbose=False,\n",
    "                                                            use_dask=False\n",
    "                                                            )\n",
    "\n",
    "refined_points = results_reconstruction[3][0]\n",
    "results_stress_analysis_ellipsoid = measurements.comprehensive_analysis(refined_points,\n",
    "                                                              max_degree=20,\n",
    "                                                              n_quadrature_points=590,\n",
    "                                                              gamma=5,\n",
    "                                                              verbose=False,\n",
    "                                                              use_dask=False)\n",
    "\n",
    "\n",
    "for res in results_reconstruction + results_stress_analysis_ellipsoid:\n",
    "    if res[2] == 'points':\n",
    "        viewer.add_points(res[0], **res[1])\n",
    "    if res[2] == 'vectors':\n",
    "        viewer.add_vectors(res[0], **res[1])\n"
   ]
  },
  {
   "cell_type": "code",
   "execution_count": null,
   "metadata": {},
   "outputs": [],
   "source": [
    "np.savetxt(os.path.join(dest, 'mean_curvatures.csv'), viewer.layers['Result of lebedev quadrature (droplet)'].features['mean_curvature'])\n",
    "np.savetxt(os.path.join(dest, 'total_stress.csv'), viewer.layers['Result of lebedev quadrature (droplet)'].features['anisotropic_stress'])\n",
    "np.savetxt(os.path.join(dest, 'lebedev_points.csv'), viewer.layers['Result of lebedev quadrature (droplet)'].data)\n",
    "np.savetxt(os.path.join(dest, 'expanded_points.csv'), viewer.layers['Result of fit spherical harmonics (deg = 20'].data)\n",
    "np.savetxt(os.path.join(dest, 'pointcloud.csv'), refined_points)"
   ]
  },
  {
   "cell_type": "code",
   "execution_count": null,
   "metadata": {},
   "outputs": [],
   "source": []
  }
 ],
 "metadata": {
  "kernelspec": {
   "display_name": "stress",
   "language": "python",
   "name": "python3"
  },
  "language_info": {
   "codemirror_mode": {
    "name": "ipython",
    "version": 3
   },
   "file_extension": ".py",
   "mimetype": "text/x-python",
   "name": "python",
   "nbconvert_exporter": "python",
   "pygments_lexer": "ipython3",
   "version": "3.9.12"
  },
  "orig_nbformat": 4,
  "vscode": {
   "interpreter": {
    "hash": "719d8a1e73db27c4d6be3e0d92076fec18ba9f394aef23fbdd8ec7a829ca2569"
   }
  }
 },
 "nbformat": 4,
 "nbformat_minor": 2
}
