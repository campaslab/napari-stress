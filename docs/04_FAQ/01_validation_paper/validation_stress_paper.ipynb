{
 "cells": [
  {
   "attachments": {},
   "cell_type": "markdown",
   "id": "75bf2599-5a29-4dfc-b0b0-7cecc3c7ab33",
   "metadata": {},
   "source": [
    "(toolboxes:analyze_everything)=\n",
    "# Analyze everything\n",
    "\n",
    "This notebook demonstrates how to run a complete STRESS analysis and produce all relevant output graphs. If you want to download this notebook and execute it locally on your machine, download this file as a `ipynb` Jupyter notebook file and run it in your local python environment using the download button at the top of this page."
   ]
  },
  {
   "cell_type": "code",
   "execution_count": 205,
   "id": "92cdbcda-ad6d-4048-a1eb-f2a452969326",
   "metadata": {},
   "outputs": [],
   "source": [
    "import napari_stress\n",
    "import napari\n",
    "import numpy as np\n",
    "from napari_stress import reconstruction, measurements, utils, stress_backend, plotting\n",
    "import os\n",
    "import datetime\n",
    "\n",
    "from skimage import io\n",
    "\n",
    "from scipy import stats\n",
    "\n",
    "import pandas as pd\n",
    "import seaborn as sns\n",
    "import matplotlib.pyplot as plt\n",
    "import matplotlib as mpl\n",
    "from dask.distributed import Client\n",
    "\n",
    "import yaml\n",
    "from tifffile import imread"
   ]
  },
  {
   "cell_type": "code",
   "execution_count": 131,
   "id": "82557e07",
   "metadata": {},
   "outputs": [],
   "source": [
    "viewer = napari.Viewer(ndisplay=3)"
   ]
  },
  {
   "attachments": {},
   "cell_type": "markdown",
   "id": "87a6fa3c-9eae-48cd-8eca-52dd0cbaed49",
   "metadata": {},
   "source": [
    "## Load the data\n",
    "\n",
    "Replace the following code with the commented out part (and remove the rest) below to load your own data for analysis:"
   ]
  },
  {
   "cell_type": "code",
   "execution_count": 4,
   "id": "b2d722d6",
   "metadata": {},
   "outputs": [],
   "source": [
    "root  = r'D:\\Johannes\\Shared\\napari_stress_paper\\data'\n",
    "filename = os.path.join(root, '3DTimelapse-vsx0.346um-vsz4um-pinhole299um0-vst3min-16zSteps-30timeSteps-memNG-cy5Drop.lsm')\n",
    "image = imread(filename)[:20]"
   ]
  },
  {
   "cell_type": "code",
   "execution_count": 5,
   "id": "634b98e7",
   "metadata": {},
   "outputs": [
    {
     "data": {
      "text/plain": [
       "(20, 16, 3, 1024, 1024)"
      ]
     },
     "execution_count": 5,
     "metadata": {},
     "output_type": "execute_result"
    }
   ],
   "source": [
    "image.shape"
   ]
  },
  {
   "cell_type": "code",
   "execution_count": 132,
   "id": "43783a7c",
   "metadata": {},
   "outputs": [
    {
     "data": {
      "text/plain": [
       "<Image layer 'other' at 0x23a026dd940>"
      ]
     },
     "execution_count": 132,
     "metadata": {},
     "output_type": "execute_result"
    }
   ],
   "source": [
    "viewer.add_image(image[:, :, 0], name='membrane', colormap='green', blending='additive', scale=[1, 4, 0.346, 0.346])\n",
    "viewer.add_image(image[:, :, 1], name='droplet', colormap='bop purple', blending='additive', scale=[1, 4, 0.346, 0.346])\n",
    "viewer.add_image(image[:, :, 2], name='other', colormap='cyan', blending='additive', scale=[1, 4, 0.346, 0.346])"
   ]
  },
  {
   "attachments": {},
   "cell_type": "markdown",
   "id": "7d4a99e3-3138-49e4-ab78-a049734d0b27",
   "metadata": {},
   "source": [
    "### Data dimensions\n",
    "You need to set a few parameters pertaining to your data:"
   ]
  },
  {
   "cell_type": "code",
   "execution_count": 7,
   "id": "84dee937-8ecd-4f19-81c0-8d67e708d727",
   "metadata": {},
   "outputs": [],
   "source": [
    "voxel_size_x = 0.346  # microns\n",
    "voxel_size_y = 0.346  # microns\n",
    "voxel_size_z = 3.998  # microns\n",
    "target_voxel_size = 1  # microns\n",
    "time_step = 3  # minutes"
   ]
  },
  {
   "attachments": {},
   "cell_type": "markdown",
   "id": "dab632d6-e1fe-4265-b6dd-c0739906ca17",
   "metadata": {},
   "source": [
    "### Analysis parameters\n",
    "\n",
    "In case you ran the reconstruction previously interactively from the napari viewer (as explained [here](toolboxes:droplet_reconstruction:interactive)) and exported the settings, you can import the settings here, too. To do so, simply uncomment the line below (remove the `#`) and provide the path to the saved settings file:"
   ]
  },
  {
   "cell_type": "code",
   "execution_count": 8,
   "id": "04552306",
   "metadata": {},
   "outputs": [],
   "source": [
    "# reconstruction_parameters = utils.import_settings(file_name='path/of/reconstruction/settings.yaml')\n",
    "# measurement_parameters = utils.import_settings(file_name='path/of/measurement/settings.yaml')"
   ]
  },
  {
   "attachments": {},
   "cell_type": "markdown",
   "id": "58d8c8f3",
   "metadata": {},
   "source": [
    "If you used a parameter file, you can skip the next step. Otherwise, use this cell to provide the necessary parameters for the reconstruction and the measurement. The parameters are explained here:\n",
    "- [Reconstruction](toolboxes:droplet_reconstruction:interactive)\n",
    "- [Measurement](toolboxes:stress_toolbox:stress_toolbox_interactive)"
   ]
  },
  {
   "cell_type": "code",
   "execution_count": 9,
   "id": "bc558d67-0cb5-40c9-aa41-8a90548a43ea",
   "metadata": {},
   "outputs": [],
   "source": [
    "## Reconstruction settings\n",
    "smoothing_sigma = 3\n",
    "n_smoothing_iterations = 10\n",
    "n_points_first_guess = 1024\n",
    "n_tracing_iterations = 2\n",
    "resampling_length = 1\n",
    "fit_type = 'fancy'  # can be 'fancy' or 'quick'\n",
    "edge_type = 'interior'  # can be 'interior' or 'surface'\n",
    "trace_length = 30\n",
    "trace_sampling_distance = 1\n",
    "interpolation_method = 'linear' # can be 'linear' 'cubic' or 'nearest'\n",
    "outlier_tolerance = 1.0\n",
    "remove_outliers = True\n",
    "\n",
    "## Measurement settings\n",
    "max_degree = 20  # spherical harmonics degree\n",
    "n_quadrature_points = 5810  # number of quadrature points to measure on (maximum is 5180)\n",
    "gamma = 3.3  # interfacial tension of droplet"
   ]
  },
  {
   "cell_type": "code",
   "execution_count": 10,
   "id": "a3f089f9",
   "metadata": {},
   "outputs": [],
   "source": [
    "reconstruction_parameters = None\n",
    "measurement_parameters = None"
   ]
  },
  {
   "attachments": {},
   "cell_type": "markdown",
   "id": "73de3130-c914-4318-b4bd-7b2c51c5a5e6",
   "metadata": {},
   "source": [
    "*Hint:* Not sure whether the code is running probably? To show a progress bar for the processing of each timeframe, set the `verbose` parameter to `True`.  Also, in order to speed up computation, set the `parallelize` parameter to `True`."
   ]
  },
  {
   "cell_type": "code",
   "execution_count": 11,
   "id": "8656d43b-d498-4dba-a5da-147987306bce",
   "metadata": {},
   "outputs": [],
   "source": [
    "verbose = False\n",
    "parallelize = True"
   ]
  },
  {
   "attachments": {},
   "cell_type": "markdown",
   "id": "aa170d40-5d31-4298-9637-27162d9478db",
   "metadata": {},
   "source": [
    "# Analysis"
   ]
  },
  {
   "cell_type": "code",
   "execution_count": 12,
   "id": "fcf6d1e2",
   "metadata": {},
   "outputs": [
    {
     "data": {
      "text/plain": [
       "20"
      ]
     },
     "execution_count": 12,
     "metadata": {},
     "output_type": "execute_result"
    }
   ],
   "source": [
    "n_frames = image.shape[0]\n",
    "n_frames"
   ]
  },
  {
   "cell_type": "code",
   "execution_count": 13,
   "id": "e013d6ae",
   "metadata": {},
   "outputs": [],
   "source": [
    "io.imsave(os.path.join(root, \"original_data_droplet.tif\"), image[:, :, 1, 300:600, 500:750])"
   ]
  },
  {
   "cell_type": "code",
   "execution_count": 14,
   "id": "2b3b958d",
   "metadata": {},
   "outputs": [
    {
     "data": {
      "text/plain": [
       "<matplotlib.image.AxesImage at 0x23a06416be0>"
      ]
     },
     "execution_count": 14,
     "metadata": {},
     "output_type": "execute_result"
    },
    {
     "data": {
      "image/png": "[encoded data removed]",
      "text/plain": [
       "<Figure size 640x480 with 1 Axes>"
      ]
     },
     "metadata": {},
     "output_type": "display_data"
    }
   ],
   "source": [
    "plt.imshow(image[:, :, 1].sum(axis=1).sum(axis=0))\n"
   ]
  },
  {
   "cell_type": "code",
   "execution_count": 15,
   "id": "b0cc0aa1",
   "metadata": {},
   "outputs": [
    {
     "data": {
      "text/plain": [
       "(20, 16, 300, 250)"
      ]
     },
     "execution_count": 15,
     "metadata": {},
     "output_type": "execute_result"
    }
   ],
   "source": [
    "image[:, :, 1, 300:600, 500:750].shape"
   ]
  },
  {
   "attachments": {},
   "cell_type": "markdown",
   "id": "e984a699",
   "metadata": {},
   "source": [
    "We put all parameters into a dictionary so we can save and reload them later:"
   ]
  },
  {
   "cell_type": "code",
   "execution_count": 16,
   "id": "0e2dc85c",
   "metadata": {},
   "outputs": [],
   "source": [
    "if reconstruction_parameters is None:\n",
    "    reconstruction_parameters = {\n",
    "        'voxelsize': np.asarray([voxel_size_z, voxel_size_y, voxel_size_x]),\n",
    "        'target_voxelsize': target_voxel_size,\n",
    "        'smoothing_sigma': smoothing_sigma,\n",
    "        'n_smoothing_iterations': n_smoothing_iterations,\n",
    "        'n_points': n_points_first_guess,\n",
    "        'n_tracing_iterations': n_tracing_iterations,\n",
    "        'resampling_length': resampling_length,\n",
    "        'fit_type': fit_type,\n",
    "        'edge_type': edge_type,\n",
    "        'trace_length': trace_length,\n",
    "        'sampling_distance': trace_sampling_distance,\n",
    "        'interpolation_method':  interpolation_method,\n",
    "        'outlier_tolerance': outlier_tolerance,\n",
    "        'remove_outliers': remove_outliers}\n",
    "\n",
    "if measurement_parameters is None:\n",
    "    measurement_parameters = {\n",
    "        'max_degree': max_degree,\n",
    "        'n_quadrature_points': n_quadrature_points,\n",
    "        'gamma': gamma}"
   ]
  },
  {
   "attachments": {},
   "cell_type": "markdown",
   "id": "1ca6756f-cc9e-454f-bef9-906ed59c3657",
   "metadata": {},
   "source": [
    "We run the reconstruction and the stress analysis:"
   ]
  },
  {
   "cell_type": "code",
   "execution_count": 17,
   "id": "8f142ebd",
   "metadata": {},
   "outputs": [
    {
     "data": {
      "text/plain": [
       "(20, 16, 1024, 1024)"
      ]
     },
     "execution_count": 17,
     "metadata": {},
     "output_type": "execute_result"
    }
   ],
   "source": [
    "image[:, :, 1].shape"
   ]
  },
  {
   "cell_type": "code",
   "execution_count": 19,
   "id": "4ad319c9",
   "metadata": {},
   "outputs": [
    {
     "name": "stdout",
     "output_type": "stream",
     "text": [
      "Dask client already running <Client: 'tcp://127.0.0.1:14792' processes=8 threads=40, memory=511.51 GiB>  Log: http://127.0.0.1:8787/status\n"
     ]
    }
   ],
   "source": [
    "results_reconstruction = reconstruction.reconstruct_droplet(image[:, :, 1], **reconstruction_parameters, use_dask=parallelize)"
   ]
  },
  {
   "cell_type": "code",
   "execution_count": 20,
   "id": "57387d5d",
   "metadata": {},
   "outputs": [
    {
     "name": "stdout",
     "output_type": "stream",
     "text": [
      "Dask client already running <Client: 'tcp://127.0.0.1:14792' processes=8 threads=40, memory=511.51 GiB>  Log: http://127.0.0.1:8787/status\n"
     ]
    }
   ],
   "source": [
    "_ = stress_backend.lbdv_info(Max_SPH_Deg=measurement_parameters['max_degree'],\n",
    "                             Num_Quad_Pts=measurement_parameters['n_quadrature_points'])\n",
    "\n",
    "results_stress_analysis = measurements.comprehensive_analysis(results_reconstruction[3][0], **measurement_parameters, use_dask=parallelize)"
   ]
  },
  {
   "cell_type": "code",
   "execution_count": 133,
   "id": "4a974763",
   "metadata": {},
   "outputs": [],
   "source": [
    "for res in results_reconstruction + results_stress_analysis:\n",
    "    layer = napari.layers.Layer.create(res[0], res[1], res[2])\n",
    "    viewer.add_layer(layer)"
   ]
  },
  {
   "cell_type": "code",
   "execution_count": 134,
   "id": "3732076f",
   "metadata": {},
   "outputs": [
    {
     "data": {
      "text/plain": [
       "ScaleBar(visible=True, colored=False, color=array([1., 0., 1., 1.], dtype=float32), ticks=True, position=<Position.BOTTOM_RIGHT: 'bottom_right'>, font_size=10.0, box=False, box_color=array([0. , 0. , 0. , 0.6], dtype=float32), unit=None)"
      ]
     },
     "execution_count": 134,
     "metadata": {},
     "output_type": "execute_result"
    }
   ],
   "source": [
    "viewer.scale_bar.visible = True\n",
    "viewer.scale_bar"
   ]
  },
  {
   "attachments": {},
   "cell_type": "markdown",
   "id": "8245e8b9",
   "metadata": {},
   "source": [
    "## Create paper screenshots"
   ]
  },
  {
   "cell_type": "code",
   "execution_count": 209,
   "id": "fe9a1f66",
   "metadata": {},
   "outputs": [],
   "source": [
    "figure_directory = r'D:\\Johannes\\Shared\\napari_stress_paper\\documents\\figures\\Figure6\\imgs'"
   ]
  },
  {
   "attachments": {},
   "cell_type": "markdown",
   "id": "5c5ccc0b",
   "metadata": {},
   "source": [
    "## Views on data"
   ]
  },
  {
   "cell_type": "code",
   "execution_count": 143,
   "id": "da377dc5",
   "metadata": {},
   "outputs": [],
   "source": [
    "def set_timepoint(viewer, current_timepoint):\n",
    "    # taken from https://github.com/haesleinhuepf/napari-time-slicer/blob/main/src/napari_time_slicer/_function.py\n",
    "    variable_timepoint = list(viewer.dims.current_step)\n",
    "    variable_timepoint[0] = current_timepoint\n",
    "    viewer.dims.current_step = variable_timepoint\n",
    "\n",
    "def make_layers_invisible(viewer):\n",
    "    for layer in viewer.layers:\n",
    "        layer.visible = False"
   ]
  },
  {
   "cell_type": "code",
   "execution_count": 177,
   "id": "33096307",
   "metadata": {},
   "outputs": [],
   "source": [
    "timepoint = 10\n",
    "set_timepoint(viewer, timepoint)"
   ]
  },
  {
   "cell_type": "code",
   "execution_count": 178,
   "id": "9ab51b94",
   "metadata": {},
   "outputs": [],
   "source": [
    "viewer.dims.ndisplay = 3\n",
    "viewer.window.resize(1400, 800)\n",
    "viewer.camera.center = (36, 148, 210)\n",
    "viewer.camera.zoom = 20\n",
    "viewer.camera.angles = (112, -30, -105)\n",
    "\n",
    "\n",
    "viewer.layers['membrane'].blending = 'translucent'\n",
    "viewer.layers['membrane'].depicion = 'plane'"
   ]
  },
  {
   "attachments": {},
   "cell_type": "markdown",
   "id": "d8a26ff1",
   "metadata": {},
   "source": [
    "#### Total stress"
   ]
  },
  {
   "cell_type": "code",
   "execution_count": 179,
   "id": "680583f3",
   "metadata": {},
   "outputs": [],
   "source": [
    "make_layers_invisible(viewer)\n",
    "viewer.layers['membrane'].visible = True\n",
    "viewer.layers['Result of lebedev quadrature (droplet)'].visible = True\n",
    "viewer.layers['Result of lebedev quadrature on ellipsoid'].visible = False\n",
    "\n",
    "viewer.layers['Result of lebedev quadrature (droplet)'].face_color = 'stress_total'\n",
    "viewer.layers['Result of lebedev quadrature (droplet)'].face_colormap = 'coolwarm'\n",
    "viewer.layers['Result of lebedev quadrature (droplet)'].face_contrast_limits = [-1, 1]\n",
    "viewer.layers['Result of lebedev quadrature (droplet)'].refresh()\n",
    "viewer.layers['Result of lebedev quadrature (droplet)'].size = 1\n",
    "\n",
    "screenshot_total_stress = viewer.screenshot()\n",
    "io.imsave(os.path.join(figure_directory, \"droplet_membrane_total_stress.png\"), screenshot_total_stress)"
   ]
  },
  {
   "attachments": {},
   "cell_type": "markdown",
   "id": "4e8b87a6",
   "metadata": {},
   "source": [
    "#### Cell stress"
   ]
  },
  {
   "cell_type": "code",
   "execution_count": 180,
   "id": "04f549c0",
   "metadata": {},
   "outputs": [],
   "source": [
    "viewer.layers['Result of lebedev quadrature (droplet)'].face_color = 'stress_cell'\n",
    "viewer.layers['Result of lebedev quadrature (droplet)'].face_colormap = 'coolwarm'\n",
    "viewer.layers['Result of lebedev quadrature (droplet)'].face_contrast_limits = [-1, 1]\n",
    "viewer.layers['Result of lebedev quadrature (droplet)'].refresh()\n",
    "viewer.layers['Result of lebedev quadrature (droplet)'].size = 1\n",
    "\n",
    "screenshot_cell_stress = viewer.screenshot()\n",
    "io.imsave(os.path.join(figure_directory, \"droplet_membrane_cell_stress.png\"), screenshot_cell_stress)"
   ]
  },
  {
   "attachments": {},
   "cell_type": "markdown",
   "id": "876c9a23",
   "metadata": {},
   "source": [
    "#### Tissue stress"
   ]
  },
  {
   "cell_type": "code",
   "execution_count": 181,
   "id": "38003335",
   "metadata": {},
   "outputs": [],
   "source": [
    "viewer.layers['Result of lebedev quadrature (droplet)'].visible = False\n",
    "viewer.layers['Result of lebedev quadrature on ellipsoid'].visible = True\n",
    "viewer.layers['Result of lebedev quadrature on ellipsoid'].face_color = 'stress_tissue'\n",
    "viewer.layers['Result of lebedev quadrature on ellipsoid'].face_colormap = 'coolwarm'\n",
    "viewer.layers['Result of lebedev quadrature on ellipsoid'].face_contrast_limits = [-0.1, 0.1]\n",
    "viewer.layers['Result of lebedev quadrature on ellipsoid'].refresh()\n",
    "viewer.layers['Result of lebedev quadrature on ellipsoid'].size = 1\n",
    "\n",
    "screenshot_tissue_stress = viewer.screenshot()\n",
    "io.imsave(os.path.join(figure_directory, \"droplet_membrane_tissue_stress.png\"), screenshot_tissue_stress)"
   ]
  },
  {
   "attachments": {},
   "cell_type": "markdown",
   "id": "b7d6256f",
   "metadata": {},
   "source": [
    "#### Extremal stresses\n",
    "\n",
    "First select correct timepoint and plane"
   ]
  },
  {
   "cell_type": "code",
   "execution_count": 186,
   "id": "51e2f33c",
   "metadata": {},
   "outputs": [],
   "source": [
    "set_timepoint(viewer, 10)\n",
    "viewer.dims.ndisplay = 2\n",
    "viewer.dims.current_step=(10, 24, 512, 623)\n",
    "\n",
    "viewer.window.resize(1400, 800)\n",
    "viewer.camera.center = (0, 150, 213)\n",
    "viewer.camera.zoom = 17\n"
   ]
  },
  {
   "cell_type": "code",
   "execution_count": 187,
   "id": "42cfb029",
   "metadata": {},
   "outputs": [],
   "source": [
    "viewer.layers['Result of lebedev quadrature on ellipsoid'].visible = False\n",
    "viewer.layers['Result of lebedev quadrature (droplet)'].visible = True\n",
    "viewer.layers['Result of lebedev quadrature (droplet)'].size = 0.5\n",
    "viewer.layers['Result of lebedev quadrature (droplet)'].face_color = 'stress_total'\n",
    "viewer.layers['Result of lebedev quadrature (droplet)'].face_colormap = 'coolwarm'\n",
    "viewer.layers['Result of lebedev quadrature (droplet)'].face_contrast_limits = [-1, 1]\n",
    "viewer.layers['Result of lebedev quadrature (droplet)'].refresh_colors(True)\n",
    "viewer.layers['Result of lebedev quadrature (droplet)'].refresh()\n",
    "viewer.layers['Total stress: Geodesics maxima -> nearest minima'].visible = True\n",
    "viewer.layers['Total stress: Geodesics maxima -> nearest minima'].width = 0.8\n",
    "viewer.layers['Total stress: Geodesics minima -> nearest maxima'].visible = True\n",
    "viewer.layers['Total stress: Geodesics minima -> nearest maxima'].width = 0.8\n",
    "\n",
    "screenshot_nearest_extrema = viewer.screenshot()\n",
    "io.imsave(os.path.join(figure_directory, \"droplet_membrane_nearest_extrema.png\"), screenshot_nearest_extrema)"
   ]
  },
  {
   "attachments": {},
   "cell_type": "markdown",
   "id": "c06b6522",
   "metadata": {},
   "source": [
    "### Extremal stress 3D"
   ]
  },
  {
   "cell_type": "code",
   "execution_count": 200,
   "id": "16bf2350",
   "metadata": {},
   "outputs": [],
   "source": [
    "set_timepoint(viewer, 10)\n",
    "viewer.dims.ndisplay = 3\n",
    "viewer.camera.center = (40, 154, 210)\n",
    "viewer.camera.zoom = 17\n",
    "viewer.camera.angles = (112, -30, -105)\n",
    "viewer.window.resize(1400, 800)\n",
    "viewer.layers['membrane'].visible = True\n",
    "viewer.layers['Result of lebedev quadrature (droplet)'].visible = True\n",
    "viewer.layers['Result of lebedev quadrature (droplet)'].size = 1\n",
    "\n",
    "viewer.layers['Result of lebedev quadrature (droplet)'].face_color = 'stress_cell'\n",
    "viewer.layers['Result of lebedev quadrature (droplet)'].face_colormap = 'coolwarm'\n",
    "viewer.layers['Result of lebedev quadrature (droplet)'].face_contrast_limits = [-1, 1]\n",
    "viewer.layers['Result of lebedev quadrature (droplet)'].refresh()\n",
    "\n",
    "screenshot_nearest_extrema_3d = viewer.screenshot()\n",
    "io.imsave(os.path.join(figure_directory, \"droplet_membrane_nearest_extrema_3d.png\"), screenshot_nearest_extrema_3d)\n"
   ]
  },
  {
   "cell_type": "code",
   "execution_count": 201,
   "id": "605319e9",
   "metadata": {},
   "outputs": [],
   "source": [
    "set_timepoint(viewer, 10)\n",
    "viewer.dims.ndisplay = 3\n",
    "viewer.camera.center = (40, 154, 210)\n",
    "viewer.camera.zoom = 17\n",
    "viewer.camera.angles = (112, -30, -105)\n",
    "viewer.window.resize(1400, 800)\n",
    "viewer.layers['membrane'].visible = True\n",
    "viewer.layers['Result of lebedev quadrature (droplet)'].visible = True\n",
    "viewer.layers['Result of lebedev quadrature (droplet)'].size = 1\n",
    "\n",
    "viewer.layers['Result of lebedev quadrature (droplet)'].face_color = 'stress_total_extrema'\n",
    "viewer.layers['Result of lebedev quadrature (droplet)'].face_colormap = 'coolwarm'\n",
    "viewer.layers['Result of lebedev quadrature (droplet)'].face_contrast_limits = [-1, 1]\n",
    "viewer.layers['Result of lebedev quadrature (droplet)'].refresh()\n",
    "\n",
    "screenshot_nearest_extrema_3d = viewer.screenshot()\n",
    "io.imsave(os.path.join(figure_directory, \"droplet_membrane_nearest_extrema_3d_extrema_highlighted.png\"), screenshot_nearest_extrema_3d)"
   ]
  },
  {
   "attachments": {},
   "cell_type": "markdown",
   "id": "e4e049b7-b258-436c-919c-eae79fcd972d",
   "metadata": {},
   "source": [
    "To get an idea about the returned outputs and which is stored in which layer, let's print them:"
   ]
  },
  {
   "cell_type": "code",
   "execution_count": 202,
   "id": "be9ccf3c",
   "metadata": {},
   "outputs": [
    {
     "name": "stdout",
     "output_type": "stream",
     "text": [
      "--> Result of fit spherical harmonics (deg = 20)\n",
      "\t Metadata:  Elipsoid_deviation_contribution_matrix\n",
      "\t Metadata:  frame\n",
      "\t Features:  fit_residue\n",
      "\t Features:  frame\n",
      "--> Result of expand points on ellipsoid\n",
      "\t Features:  fit_residue\n",
      "\t Features:  frame\n",
      "--> Result of least squares ellipsoid\n",
      "--> Result of lebedev quadrature on ellipsoid\n",
      "\t Metadata:  Tissue_stress_tensor_cartesian\n",
      "\t Metadata:  Tissue_stress_tensor_elliptical\n",
      "\t Metadata:  Tissue_stress_tensor_elliptical_e1\n",
      "\t Metadata:  Tissue_stress_tensor_elliptical_e2\n",
      "\t Metadata:  Tissue_stress_tensor_elliptical_e3\n",
      "\t Metadata:  stress_ellipsoid_anisotropy_e12\n",
      "\t Metadata:  stress_ellipsoid_anisotropy_e23\n",
      "\t Metadata:  stress_ellipsoid_anisotropy_e13\n",
      "\t Metadata:  angle_ellipsoid_cartesian_e1_x1\n",
      "\t Metadata:  angle_ellipsoid_cartesian_e1_x2\n",
      "\t Metadata:  angle_ellipsoid_cartesian_e1_x3\n",
      "\t Metadata:  stress_tissue_anisotropy\n",
      "\t Metadata:  frame\n",
      "\t Features:  mean_curvature\n",
      "\t Features:  stress_tissue\n",
      "\t Features:  frame\n",
      "--> Result of lebedev quadrature (droplet)\n",
      "\t Metadata:  Gauss_Bonnet_relative_error\n",
      "\t Metadata:  Gauss_Bonnet_error\n",
      "\t Metadata:  Gauss_Bonnet_error_radial\n",
      "\t Metadata:  Gauss_Bonnet_relative_error_radial\n",
      "\t Metadata:  H0_volume_integral\n",
      "\t Metadata:  H0_arithmetic\n",
      "\t Metadata:  H0_surface_integral\n",
      "\t Metadata:  S2_volume_integral\n",
      "\t Metadata:  stress_cell_nearest_pair_anisotropy\n",
      "\t Metadata:  stress_cell_nearest_pair_distance\n",
      "\t Metadata:  stress_cell_all_pair_anisotropy\n",
      "\t Metadata:  stress_cell_all_pair_distance\n",
      "\t Metadata:  frame\n",
      "\t Features:  mean_curvature\n",
      "\t Features:  difference_mean_curvature_cartesian_radial_manifold\n",
      "\t Features:  stress_cell\n",
      "\t Features:  stress_total\n",
      "\t Features:  stress_total_radial\n",
      "\t Features:  stress_cell_extrema\n",
      "\t Features:  stress_total_extrema\n",
      "\t Features:  frame\n",
      "--> Total stress: Geodesics maxima -> nearest minima\n",
      "--> Total stress: Geodesics minima -> nearest maxima\n",
      "--> Cell stress: Geodesics maxima -> nearest minima\n",
      "--> Cell stress: Geodesics minima -> nearest maxima\n",
      "--> stress_autocorrelations\n",
      "\t Metadata:  autocorrelations_spatial_total\n",
      "\t Metadata:  autocorrelations_spatial_cell\n",
      "\t Metadata:  autocorrelations_spatial_tissue\n",
      "\t Metadata:  frame\n"
     ]
    }
   ],
   "source": [
    "for res in results_stress_analysis:\n",
    "    print('-->', res[1]['name'])\n",
    "    if 'metadata' in res[1].keys():\n",
    "        for key in res[1]['metadata'].keys():\n",
    "            print('\\t Metadata: ', key)\n",
    "    if 'features' in res[1].keys():\n",
    "        for key in res[1]['features'].keys():\n",
    "            print('\\t Features: ', key)"
   ]
  },
  {
   "attachments": {},
   "cell_type": "markdown",
   "id": "8d1ab428",
   "metadata": {},
   "source": [
    "To make handling further down easier, we store all metadata in a single dataframe if its length corresponds to the number of frames in the data:"
   ]
  },
  {
   "cell_type": "code",
   "execution_count": 203,
   "id": "bfdf8257",
   "metadata": {},
   "outputs": [],
   "source": [
    "# Compile data\n",
    "df_over_time, df_nearest_pairs, df_all_pairs, df_autocorrelations = utils.compile_data_from_layers(\n",
    "    results_stress_analysis, n_frames=n_frames, time_step=time_step)"
   ]
  },
  {
   "cell_type": "code",
   "execution_count": 222,
   "id": "bd0d0e18",
   "metadata": {},
   "outputs": [],
   "source": [
    "%%capture\n",
    "figures_dict = plotting.create_all_stress_plots(\n",
    "    results_stress_analysis,\n",
    "    time_step=time_step,\n",
    "    n_frames=n_frames\n",
    ")"
   ]
  },
  {
   "attachments": {},
   "cell_type": "markdown",
   "id": "e1593ad7",
   "metadata": {},
   "source": [
    "## Quantitative plots"
   ]
  },
  {
   "cell_type": "code",
   "execution_count": 224,
   "id": "fb308e74",
   "metadata": {},
   "outputs": [],
   "source": [
    "max_time = (image[:, :, 1].shape[0] - 1) * time_step"
   ]
  },
  {
   "cell_type": "code",
   "execution_count": 225,
   "id": "cf99776d",
   "metadata": {},
   "outputs": [
    {
     "data": {
      "image/png": "[encoded data removed]",
      "text/plain": [
       "<Figure size 1000x500 with 2 Axes>"
      ]
     },
     "execution_count": 225,
     "metadata": {},
     "output_type": "execute_result"
    }
   ],
   "source": [
    "figure = figures_dict['Figure_reside']\n",
    "\n",
    "figure['figure'].tight_layout()\n",
    "figure['figure'].axes[0].set_xlim([-0.05, 0.25])\n",
    "figure['figure'].axes[0].set_xlabel(\"Fit residue [$\\mu$m]\", fontsize=12)\n",
    "figure['figure'].axes[0].set_ylabel(\"Density [a.u.]\", fontsize=12)\n",
    "\n",
    "figure['figure'].axes[1].set_xlabel(\"Time [min]\", fontsize=12)\n",
    "figure['figure'].axes[1].set_ylabel(\"Fit residue [$\\mu$m]\", fontsize=12)\n",
    "figure['figure'].axes[1].set_xlim([0,  max_time])\n",
    "figure['figure'].savefig(os.path.join(figure_directory, figure['path']), dpi=300)\n",
    "\n",
    "figure['figure']"
   ]
  },
  {
   "cell_type": "code",
   "execution_count": 213,
   "id": "7954e59a",
   "metadata": {},
   "outputs": [
    {
     "data": {
      "text/plain": [
       "[<Axes: xlabel='fit_residue', ylabel='Density'>,\n",
       " <Axes: xlabel='time', ylabel='fit_residue'>]"
      ]
     },
     "execution_count": 213,
     "metadata": {},
     "output_type": "execute_result"
    }
   ],
   "source": [
    "figure['figure'].axes"
   ]
  },
  {
   "cell_type": "code",
   "execution_count": null,
   "id": "20871b3f",
   "metadata": {},
   "outputs": [],
   "source": []
  }
 ],
 "metadata": {
  "kernelspec": {
   "display_name": "stress",
   "language": "python",
   "name": "python3"
  },
  "language_info": {
   "codemirror_mode": {
    "name": "ipython",
    "version": 3
   },
   "file_extension": ".py",
   "mimetype": "text/x-python",
   "name": "python",
   "nbconvert_exporter": "python",
   "pygments_lexer": "ipython3",
   "version": "3.9.16"
  },
  "vscode": {
   "interpreter": {
    "hash": "e94545d40d04f852d50c4a3e54178cb617d42c4dde55aeec8654f84a500b04b2"
   }
  }
 },
 "nbformat": 4,
 "nbformat_minor": 5
}
