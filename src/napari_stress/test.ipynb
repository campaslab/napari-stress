{
 "cells": [
  {
   "cell_type": "code",
   "execution_count": 28,
   "metadata": {},
   "outputs": [],
   "source": [
    "import numpy as np\n",
    "from napari_stress import vectors\n",
    "import vedo\n",
    "from scipy.interpolate import RegularGridInterpolator\n",
    "import napari\n",
    "import pandas as pd"
   ]
  },
  {
   "cell_type": "code",
   "execution_count": 29,
   "metadata": {},
   "outputs": [],
   "source": [
    "image = np.random.rand(100,100,100)\n",
    "sphere = vedo.Sphere(r=10, pos=(50,50,50))"
   ]
  },
  {
   "cell_type": "code",
   "execution_count": 30,
   "metadata": {},
   "outputs": [
    {
     "name": "stderr",
     "output_type": "stream",
     "text": [
      "100%|██████████| 1/1 [00:00<00:00, 166.71it/s]\n"
     ]
    }
   ],
   "source": [
    "vectors = vectors.normal_vectors_on_pointcloud(sphere.points())"
   ]
  },
  {
   "cell_type": "code",
   "execution_count": 31,
   "metadata": {},
   "outputs": [
    {
     "name": "stderr",
     "output_type": "stream",
     "text": [
      "WARNING: QWindowsWindow::setGeometry: Unable to set geometry 2172x1352+0+20 (frame: 2198x1423-13-38) on QWidgetWindow/\"_QtMainWindowClassWindow\" on \"\\\\.\\DISPLAY1\". Resulting geometry: 4350x2119+5+47 (frame: 4376x2190-8-11) margins: 13, 58, 13, 13 minimum size: 374x560 MINMAXINFO maxSize=0,0 maxpos=0,0 mintrack=774,1191 maxtrack=0,0)\n",
      "10-Feb-23 15:02:17 - vispy    - WARNING  - QWindowsWindow::setGeometry: Unable to set geometry 2172x1352+0+20 (frame: 2198x1423-13-38) on QWidgetWindow/\"_QtMainWindowClassWindow\" on \"\\\\.\\DISPLAY1\". Resulting geometry: 4350x2119+5+47 (frame: 4376x2190-8-11) margins: 13, 58, 13, 13 minimum size: 374x560 MINMAXINFO maxSize=0,0 maxpos=0,0 mintrack=774,1191 maxtrack=0,0)\n"
     ]
    },
    {
     "data": {
      "text/plain": [
       "<Vectors layer 'vectors' at 0x27f03d50a90>"
      ]
     },
     "execution_count": 31,
     "metadata": {},
     "output_type": "execute_result"
    }
   ],
   "source": [
    "viewer = napari.Viewer()\n",
    "viewer.add_image(image)\n",
    "viewer.add_points(sphere.points(), size=0.5, face_color='red')\n",
    "viewer.add_vectors(vectors, edge_color='blue')\n"
   ]
  },
  {
   "cell_type": "code",
   "execution_count": 32,
   "metadata": {},
   "outputs": [],
   "source": [
    "# Create coords for interpolator\n",
    "X1 = np.arange(0, image.shape[0], 1)\n",
    "X2 = np.arange(0, image.shape[1], 1)\n",
    "X3 = np.arange(0, image.shape[2], 1)"
   ]
  },
  {
   "cell_type": "code",
   "execution_count": 33,
   "metadata": {},
   "outputs": [],
   "source": [
    "interpolator = RegularGridInterpolator((X1, X2, X3),\n",
    "                                        image,\n",
    "                                        bounds_error=False,\n",
    "                                        fill_value=np.nan)"
   ]
  },
  {
   "cell_type": "code",
   "execution_count": 34,
   "metadata": {},
   "outputs": [],
   "source": [
    "start_points = vectors[:, 0]"
   ]
  },
  {
   "cell_type": "code",
   "execution_count": 35,
   "metadata": {},
   "outputs": [],
   "source": [
    "unit_vector = vectors[:, 1]/np.linalg.norm(vectors[:, 1], axis=1)[:, np.newaxis]"
   ]
  },
  {
   "cell_type": "code",
   "execution_count": 36,
   "metadata": {},
   "outputs": [],
   "source": [
    "sampling_distance = 0.5\n",
    "steps = np.round(np.linalg.norm(vectors[:, 1], axis=1)[:, np.newaxis] / sampling_distance).mean().astype(int)\n",
    "\n",
    "intensity = np.zeros((len(start_points), steps))\n",
    "for step in range(steps):\n",
    "    sampling_coordinates = np.stack([start_points[idx] + step * sampling_distance * unit_vector[idx] for idx in range(len(start_points))])\n",
    "    intensity[:, step] = interpolator(sampling_coordinates)"
   ]
  },
  {
   "cell_type": "code",
   "execution_count": 37,
   "metadata": {},
   "outputs": [],
   "source": [
    "intensity = pd.DataFrame(intensity)\n",
    "intensity.columns = [f'step_{idx}' for idx in range(steps)]"
   ]
  },
  {
   "cell_type": "code",
   "execution_count": 38,
   "metadata": {},
   "outputs": [
    {
     "data": {
      "text/html": [
       "<div>\n",
       "<style scoped>\n",
       "    .dataframe tbody tr th:only-of-type {\n",
       "        vertical-align: middle;\n",
       "    }\n",
       "\n",
       "    .dataframe tbody tr th {\n",
       "        vertical-align: top;\n",
       "    }\n",
       "\n",
       "    .dataframe thead th {\n",
       "        text-align: right;\n",
       "    }\n",
       "</style>\n",
       "<table border=\"1\" class=\"dataframe\">\n",
       "  <thead>\n",
       "    <tr style=\"text-align: right;\">\n",
       "      <th></th>\n",
       "      <th>step_0</th>\n",
       "      <th>step_1</th>\n",
       "    </tr>\n",
       "  </thead>\n",
       "  <tbody>\n",
       "    <tr>\n",
       "      <th>0</th>\n",
       "      <td>0.854492</td>\n",
       "      <td>0.903508</td>\n",
       "    </tr>\n",
       "    <tr>\n",
       "      <th>1</th>\n",
       "      <td>0.912932</td>\n",
       "      <td>0.472480</td>\n",
       "    </tr>\n",
       "    <tr>\n",
       "      <th>2</th>\n",
       "      <td>0.459012</td>\n",
       "      <td>0.687322</td>\n",
       "    </tr>\n",
       "    <tr>\n",
       "      <th>3</th>\n",
       "      <td>0.413512</td>\n",
       "      <td>0.536467</td>\n",
       "    </tr>\n",
       "    <tr>\n",
       "      <th>4</th>\n",
       "      <td>0.102012</td>\n",
       "      <td>0.255283</td>\n",
       "    </tr>\n",
       "    <tr>\n",
       "      <th>...</th>\n",
       "      <td>...</td>\n",
       "      <td>...</td>\n",
       "    </tr>\n",
       "    <tr>\n",
       "      <th>1053</th>\n",
       "      <td>0.398117</td>\n",
       "      <td>0.556531</td>\n",
       "    </tr>\n",
       "    <tr>\n",
       "      <th>1054</th>\n",
       "      <td>0.594177</td>\n",
       "      <td>0.704409</td>\n",
       "    </tr>\n",
       "    <tr>\n",
       "      <th>1055</th>\n",
       "      <td>0.546623</td>\n",
       "      <td>0.660726</td>\n",
       "    </tr>\n",
       "    <tr>\n",
       "      <th>1056</th>\n",
       "      <td>0.491679</td>\n",
       "      <td>0.609282</td>\n",
       "    </tr>\n",
       "    <tr>\n",
       "      <th>1057</th>\n",
       "      <td>0.521686</td>\n",
       "      <td>0.345063</td>\n",
       "    </tr>\n",
       "  </tbody>\n",
       "</table>\n",
       "<p>1058 rows × 2 columns</p>\n",
       "</div>"
      ],
      "text/plain": [
       "        step_0    step_1\n",
       "0     0.854492  0.903508\n",
       "1     0.912932  0.472480\n",
       "2     0.459012  0.687322\n",
       "3     0.413512  0.536467\n",
       "4     0.102012  0.255283\n",
       "...        ...       ...\n",
       "1053  0.398117  0.556531\n",
       "1054  0.594177  0.704409\n",
       "1055  0.546623  0.660726\n",
       "1056  0.491679  0.609282\n",
       "1057  0.521686  0.345063\n",
       "\n",
       "[1058 rows x 2 columns]"
      ]
     },
     "execution_count": 38,
     "metadata": {},
     "output_type": "execute_result"
    }
   ],
   "source": [
    "intensity"
   ]
  },
  {
   "cell_type": "code",
   "execution_count": null,
   "metadata": {},
   "outputs": [],
   "source": []
  }
 ],
 "metadata": {
  "kernelspec": {
   "display_name": "stress",
   "language": "python",
   "name": "python3"
  },
  "language_info": {
   "codemirror_mode": {
    "name": "ipython",
    "version": 3
   },
   "file_extension": ".py",
   "mimetype": "text/x-python",
   "name": "python",
   "nbconvert_exporter": "python",
   "pygments_lexer": "ipython3",
   "version": "3.9.13"
  },
  "orig_nbformat": 4,
  "vscode": {
   "interpreter": {
    "hash": "e94545d40d04f852d50c4a3e54178cb617d42c4dde55aeec8654f84a500b04b2"
   }
  }
 },
 "nbformat": 4,
 "nbformat_minor": 2
}
